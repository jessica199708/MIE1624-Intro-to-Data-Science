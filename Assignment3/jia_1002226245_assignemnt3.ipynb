{
  "nbformat": 4,
  "nbformat_minor": 0,
  "metadata": {
    "colab": {
      "name": "jia_1002226245_assignemnt3.ipynb",
      "provenance": [],
      "collapsed_sections": [],
      "toc_visible": true
    },
    "kernelspec": {
      "display_name": "Python 3",
      "language": "python",
      "name": "python3"
    },
    "language_info": {
      "codemirror_mode": {
        "name": "ipython",
        "version": 3
      },
      "file_extension": ".py",
      "mimetype": "text/x-python",
      "name": "python",
      "nbconvert_exporter": "python",
      "pygments_lexer": "ipython3",
      "version": "3.8.3"
    }
  },
  "cells": [
    {
      "cell_type": "markdown",
      "metadata": {
        "id": "HLzgiyO_xohI"
      },
      "source": [
        "# MIE1624 Introduction to Data Science and Analytics\n",
        "\n",
        "# Assignment 3: Sentiment Analysis"
      ]
    },
    {
      "cell_type": "markdown",
      "metadata": {
        "id": "rpx3HMBjx1u2"
      },
      "source": [
        "**Name: Jiani Jia**\n",
        "\n",
        "**ID: 1002226245**"
      ]
    },
    {
      "cell_type": "code",
      "metadata": {
        "colab": {
          "base_uri": "https://localhost:8080/"
        },
        "id": "YNV1Nz-9cpq-",
        "outputId": "0ae358f4-da06-45f9-eb48-518e88fa068e"
      },
      "source": [
        "!pip install wordcloud"
      ],
      "execution_count": 111,
      "outputs": [
        {
          "output_type": "stream",
          "text": [
            "Requirement already satisfied: wordcloud in /usr/local/lib/python3.6/dist-packages (1.5.0)\n",
            "Requirement already satisfied: pillow in /usr/local/lib/python3.6/dist-packages (from wordcloud) (7.0.0)\n",
            "Requirement already satisfied: numpy>=1.6.1 in /usr/local/lib/python3.6/dist-packages (from wordcloud) (1.18.5)\n"
          ],
          "name": "stdout"
        }
      ]
    },
    {
      "cell_type": "code",
      "metadata": {
        "id": "9wnch5UZxzNM"
      },
      "source": [
        "import pandas as pd\n",
        "import numpy as np\n",
        "import re\n",
        "import unicodedata\n",
        "import nltk\n",
        "from nltk.corpus import stopwords\n",
        "from nltk.tokenize import RegexpTokenizer \n",
        "from re import search\n",
        "import matplotlib.pyplot as plt\n",
        "from wordcloud import WordCloud\n",
        "from sklearn.feature_extraction.text import TfidfVectorizer, CountVectorizer\n",
        "from sklearn.model_selection import train_test_split, GridSearchCV, cross_val_score, KFold\n",
        "from sklearn.linear_model import LogisticRegression\n",
        "from sklearn.metrics import accuracy_score\n",
        "from sklearn.tree import DecisionTreeClassifier\n",
        "from sklearn.neighbors import KNeighborsClassifier\n",
        "from sklearn.naive_bayes import MultinomialNB\n",
        "from sklearn.svm import LinearSVC\n",
        "from sklearn.ensemble import RandomForestClassifier\n",
        "import xgboost as xgb\n",
        "import warnings"
      ],
      "execution_count": 112,
      "outputs": []
    },
    {
      "cell_type": "markdown",
      "metadata": {
        "id": "KBsUMZNfyHg2"
      },
      "source": [
        "## 1 Data Cleaning"
      ]
    },
    {
      "cell_type": "code",
      "metadata": {
        "id": "-gzdfCmzyDjf",
        "colab": {
          "base_uri": "https://localhost:8080/",
          "height": 419
        },
        "outputId": "ba849306-5cfb-41ab-96ed-e22c4752aa6b"
      },
      "source": [
        "sentiment_analysis_df = pd.read_csv('sentiment_analysis.csv')\n",
        "sentiment_analysis_df"
      ],
      "execution_count": 113,
      "outputs": [
        {
          "output_type": "execute_result",
          "data": {
            "text/html": [
              "<div>\n",
              "<style scoped>\n",
              "    .dataframe tbody tr th:only-of-type {\n",
              "        vertical-align: middle;\n",
              "    }\n",
              "\n",
              "    .dataframe tbody tr th {\n",
              "        vertical-align: top;\n",
              "    }\n",
              "\n",
              "    .dataframe thead th {\n",
              "        text-align: right;\n",
              "    }\n",
              "</style>\n",
              "<table border=\"1\" class=\"dataframe\">\n",
              "  <thead>\n",
              "    <tr style=\"text-align: right;\">\n",
              "      <th></th>\n",
              "      <th>ID</th>\n",
              "      <th>text</th>\n",
              "      <th>label</th>\n",
              "    </tr>\n",
              "  </thead>\n",
              "  <tbody>\n",
              "    <tr>\n",
              "      <th>0</th>\n",
              "      <td>7.680980e+17</td>\n",
              "      <td>Josh Jenkins is looking forward to TAB Breeder...</td>\n",
              "      <td>1</td>\n",
              "    </tr>\n",
              "    <tr>\n",
              "      <th>1</th>\n",
              "      <td>7.680980e+17</td>\n",
              "      <td>RT @MianUsmanJaved: Congratulations Pakistan o...</td>\n",
              "      <td>1</td>\n",
              "    </tr>\n",
              "    <tr>\n",
              "      <th>2</th>\n",
              "      <td>7.680980e+17</td>\n",
              "      <td>RT @PEPalerts: This September, @YESmag is taki...</td>\n",
              "      <td>1</td>\n",
              "    </tr>\n",
              "    <tr>\n",
              "      <th>3</th>\n",
              "      <td>7.680980e+17</td>\n",
              "      <td>RT @david_gaibis: Newly painted walls, thanks ...</td>\n",
              "      <td>1</td>\n",
              "    </tr>\n",
              "    <tr>\n",
              "      <th>4</th>\n",
              "      <td>7.680980e+17</td>\n",
              "      <td>RT @CedricFeschotte: Excited to announce: as o...</td>\n",
              "      <td>1</td>\n",
              "    </tr>\n",
              "    <tr>\n",
              "      <th>...</th>\n",
              "      <td>...</td>\n",
              "      <td>...</td>\n",
              "      <td>...</td>\n",
              "    </tr>\n",
              "    <tr>\n",
              "      <th>550386</th>\n",
              "      <td>8.046170e+17</td>\n",
              "      <td>@goddesses_o I can't stop watching her...mm. M...</td>\n",
              "      <td>0</td>\n",
              "    </tr>\n",
              "    <tr>\n",
              "      <th>550387</th>\n",
              "      <td>8.046180e+17</td>\n",
              "      <td>Poor old Tom Odell doesn't look like he would ...</td>\n",
              "      <td>0</td>\n",
              "    </tr>\n",
              "    <tr>\n",
              "      <th>550388</th>\n",
              "      <td>8.046180e+17</td>\n",
              "      <td>#antsmasher I smashed  7 ants in this awesome ...</td>\n",
              "      <td>1</td>\n",
              "    </tr>\n",
              "    <tr>\n",
              "      <th>550389</th>\n",
              "      <td>8.046180e+17</td>\n",
              "      <td>@LizHudston @KymWyllie @Evasmiless @meanBok @l...</td>\n",
              "      <td>1</td>\n",
              "    </tr>\n",
              "    <tr>\n",
              "      <th>550390</th>\n",
              "      <td>8.046190e+17</td>\n",
              "      <td>Bixbeat Mixtape Vol.2 is here with great artis...</td>\n",
              "      <td>1</td>\n",
              "    </tr>\n",
              "  </tbody>\n",
              "</table>\n",
              "<p>550391 rows × 3 columns</p>\n",
              "</div>"
            ],
            "text/plain": [
              "                  ID                                               text  label\n",
              "0       7.680980e+17  Josh Jenkins is looking forward to TAB Breeder...      1\n",
              "1       7.680980e+17  RT @MianUsmanJaved: Congratulations Pakistan o...      1\n",
              "2       7.680980e+17  RT @PEPalerts: This September, @YESmag is taki...      1\n",
              "3       7.680980e+17  RT @david_gaibis: Newly painted walls, thanks ...      1\n",
              "4       7.680980e+17  RT @CedricFeschotte: Excited to announce: as o...      1\n",
              "...              ...                                                ...    ...\n",
              "550386  8.046170e+17  @goddesses_o I can't stop watching her...mm. M...      0\n",
              "550387  8.046180e+17  Poor old Tom Odell doesn't look like he would ...      0\n",
              "550388  8.046180e+17  #antsmasher I smashed  7 ants in this awesome ...      1\n",
              "550389  8.046180e+17  @LizHudston @KymWyllie @Evasmiless @meanBok @l...      1\n",
              "550390  8.046190e+17  Bixbeat Mixtape Vol.2 is here with great artis...      1\n",
              "\n",
              "[550391 rows x 3 columns]"
            ]
          },
          "metadata": {
            "tags": []
          },
          "execution_count": 113
        }
      ]
    },
    {
      "cell_type": "code",
      "metadata": {
        "id": "qpzRw4s4yM2O",
        "colab": {
          "base_uri": "https://localhost:8080/",
          "height": 419
        },
        "outputId": "d2de077d-3c9f-47b6-aac8-d96d286cd436"
      },
      "source": [
        "US_Elections_df = pd.read_csv('US_Elections_2020.csv')\n",
        "US_Elections_df "
      ],
      "execution_count": 114,
      "outputs": [
        {
          "output_type": "execute_result",
          "data": {
            "text/html": [
              "<div>\n",
              "<style scoped>\n",
              "    .dataframe tbody tr th:only-of-type {\n",
              "        vertical-align: middle;\n",
              "    }\n",
              "\n",
              "    .dataframe tbody tr th {\n",
              "        vertical-align: top;\n",
              "    }\n",
              "\n",
              "    .dataframe thead th {\n",
              "        text-align: right;\n",
              "    }\n",
              "</style>\n",
              "<table border=\"1\" class=\"dataframe\">\n",
              "  <thead>\n",
              "    <tr style=\"text-align: right;\">\n",
              "      <th></th>\n",
              "      <th>text</th>\n",
              "      <th>sentiment</th>\n",
              "      <th>negative_reason</th>\n",
              "    </tr>\n",
              "  </thead>\n",
              "  <tbody>\n",
              "    <tr>\n",
              "      <th>0</th>\n",
              "      <td>b'@robreiner so afraid of Nov, Dec, and Jan! E...</td>\n",
              "      <td>0</td>\n",
              "      <td>covid19</td>\n",
              "    </tr>\n",
              "    <tr>\n",
              "      <th>1</th>\n",
              "      <td>b\"RT @SueC00K: Lord Sumption launches Recovery...</td>\n",
              "      <td>0</td>\n",
              "      <td>others</td>\n",
              "    </tr>\n",
              "    <tr>\n",
              "      <th>2</th>\n",
              "      <td>b'RT @WalidPhares: Uber Timing: after #Biden a...</td>\n",
              "      <td>0</td>\n",
              "      <td>covid19</td>\n",
              "    </tr>\n",
              "    <tr>\n",
              "      <th>3</th>\n",
              "      <td>b'Every 107 seconds an American is dying from ...</td>\n",
              "      <td>1</td>\n",
              "      <td>NaN</td>\n",
              "    </tr>\n",
              "    <tr>\n",
              "      <th>4</th>\n",
              "      <td>b'RT @thewebbix: The #Democrats embrace #Diver...</td>\n",
              "      <td>1</td>\n",
              "      <td>NaN</td>\n",
              "    </tr>\n",
              "    <tr>\n",
              "      <th>...</th>\n",
              "      <td>...</td>\n",
              "      <td>...</td>\n",
              "      <td>...</td>\n",
              "    </tr>\n",
              "    <tr>\n",
              "      <th>2547</th>\n",
              "      <td>b'RT @BoycottUtah: It is Friday, October 30, 2...</td>\n",
              "      <td>1</td>\n",
              "      <td>NaN</td>\n",
              "    </tr>\n",
              "    <tr>\n",
              "      <th>2548</th>\n",
              "      <td>b'@nowthisnews Delivered today in Montgomery C...</td>\n",
              "      <td>1</td>\n",
              "      <td>NaN</td>\n",
              "    </tr>\n",
              "    <tr>\n",
              "      <th>2549</th>\n",
              "      <td>b'@DonaldJTrumpJr DUHnnie Jr. lied on Fox when...</td>\n",
              "      <td>0</td>\n",
              "      <td>covid19</td>\n",
              "    </tr>\n",
              "    <tr>\n",
              "      <th>2550</th>\n",
              "      <td>b'RT @Pale_Ranger: Any ideas why @JoeBiden is ...</td>\n",
              "      <td>0</td>\n",
              "      <td>covid19</td>\n",
              "    </tr>\n",
              "    <tr>\n",
              "      <th>2551</th>\n",
              "      <td>b'RT @cazaresforcoc: game time, keep up our mo...</td>\n",
              "      <td>1</td>\n",
              "      <td>NaN</td>\n",
              "    </tr>\n",
              "  </tbody>\n",
              "</table>\n",
              "<p>2552 rows × 3 columns</p>\n",
              "</div>"
            ],
            "text/plain": [
              "                                                   text  ...  negative_reason\n",
              "0     b'@robreiner so afraid of Nov, Dec, and Jan! E...  ...          covid19\n",
              "1     b\"RT @SueC00K: Lord Sumption launches Recovery...  ...           others\n",
              "2     b'RT @WalidPhares: Uber Timing: after #Biden a...  ...          covid19\n",
              "3     b'Every 107 seconds an American is dying from ...  ...              NaN\n",
              "4     b'RT @thewebbix: The #Democrats embrace #Diver...  ...              NaN\n",
              "...                                                 ...  ...              ...\n",
              "2547  b'RT @BoycottUtah: It is Friday, October 30, 2...  ...              NaN\n",
              "2548  b'@nowthisnews Delivered today in Montgomery C...  ...              NaN\n",
              "2549  b'@DonaldJTrumpJr DUHnnie Jr. lied on Fox when...  ...          covid19\n",
              "2550  b'RT @Pale_Ranger: Any ideas why @JoeBiden is ...  ...          covid19\n",
              "2551  b'RT @cazaresforcoc: game time, keep up our mo...  ...              NaN\n",
              "\n",
              "[2552 rows x 3 columns]"
            ]
          },
          "metadata": {
            "tags": []
          },
          "execution_count": 114
        }
      ]
    },
    {
      "cell_type": "markdown",
      "metadata": {
        "id": "ulWL0vCOyP4s"
      },
      "source": [
        "### 1.1 Remove all html tags and attributes (i.e., /<[^>]+>/)"
      ]
    },
    {
      "cell_type": "code",
      "metadata": {
        "id": "cdlUEUH5yS1G"
      },
      "source": [
        "# Using a regex, compile the regex pattern and match them into original text\n",
        "def remove_html(text):\n",
        "    html_remove = re.compile('<.*?>|&([a-z0-9]+|#[0-9]{1,6}|#x[0-9a-f]{1,6});')\n",
        "    cleantext = re.sub(html_remove, '', text)\n",
        "    return cleantext"
      ],
      "execution_count": 115,
      "outputs": []
    },
    {
      "cell_type": "code",
      "metadata": {
        "id": "81kpPWp5yUsz"
      },
      "source": [
        "sentiment_analysis_df['text'] = sentiment_analysis_df['text'].apply(remove_html)"
      ],
      "execution_count": 116,
      "outputs": []
    },
    {
      "cell_type": "code",
      "metadata": {
        "id": "f0JW1dP8yXne"
      },
      "source": [
        "US_Elections_df['text'] = US_Elections_df['text'].apply(remove_html)"
      ],
      "execution_count": 117,
      "outputs": []
    },
    {
      "cell_type": "markdown",
      "metadata": {
        "id": "J2y_X7LryaI1"
      },
      "source": [
        "### 1.2 Html character codes (i.e., &...;) are replaced with an ASCII equivalent"
      ]
    },
    {
      "cell_type": "code",
      "metadata": {
        "id": "imfNx4NlybQn"
      },
      "source": [
        "# Normal form form for the Unicode string\n",
        "# NFKD will apply the compatibility decomposition, i.e. replace all compatibility characters with their equivalents\n",
        "# Encode create creates a byte string, which cannot be mixed with a regular string\n",
        "# Decode can convert back to string again\n",
        "def ASCII_equivalent(text):\n",
        "    ASCII_text = unicodedata.normalize('NFKD', text).encode('ascii', 'ignore').decode('utf-8')\n",
        "    return ASCII_text"
      ],
      "execution_count": 118,
      "outputs": []
    },
    {
      "cell_type": "code",
      "metadata": {
        "id": "3ZgEkw7TyeJK"
      },
      "source": [
        "sentiment_analysis_df['text'] = sentiment_analysis_df['text'].apply(ASCII_equivalent)"
      ],
      "execution_count": 119,
      "outputs": []
    },
    {
      "cell_type": "code",
      "metadata": {
        "id": "nQd9zo27yfZJ"
      },
      "source": [
        "US_Elections_df['text'] = US_Elections_df['text'].apply(ASCII_equivalent)"
      ],
      "execution_count": 120,
      "outputs": []
    },
    {
      "cell_type": "markdown",
      "metadata": {
        "id": "YkWEUCXByivx"
      },
      "source": [
        "### 1.3 Remove all URLs"
      ]
    },
    {
      "cell_type": "code",
      "metadata": {
        "id": "gWBpj-Tsyjfs"
      },
      "source": [
        "def remove_URL(text):\n",
        "    cleantext = re.sub(r'http\\S+', '', text)\n",
        "    return cleantext"
      ],
      "execution_count": 121,
      "outputs": []
    },
    {
      "cell_type": "code",
      "metadata": {
        "id": "z2RtNA2OylP4"
      },
      "source": [
        "sentiment_analysis_df['text'] = sentiment_analysis_df['text'].apply(remove_URL)"
      ],
      "execution_count": 122,
      "outputs": []
    },
    {
      "cell_type": "code",
      "metadata": {
        "id": "r5CeCgj5yn6a"
      },
      "source": [
        "US_Elections_df['text'] = US_Elections_df['text'].apply(remove_URL)"
      ],
      "execution_count": 123,
      "outputs": []
    },
    {
      "cell_type": "code",
      "metadata": {
        "colab": {
          "base_uri": "https://localhost:8080/",
          "height": 52
        },
        "id": "DbtwNHOrcpq_",
        "outputId": "44067f3b-91fd-47ec-f55b-5db8b43bcbf5"
      },
      "source": [
        "sentiment_analysis_df['text'][11]"
      ],
      "execution_count": 124,
      "outputs": [
        {
          "output_type": "execute_result",
          "data": {
            "application/vnd.google.colaboratory.intrinsic+json": {
              "type": "string"
            },
            "text/plain": [
              "'Happy birthday to the most handsome kid in the world, love u like the son I never had congrats on the L @Snavitsky7 '"
            ]
          },
          "metadata": {
            "tags": []
          },
          "execution_count": 124
        }
      ]
    },
    {
      "cell_type": "markdown",
      "metadata": {
        "id": "UOpfB3QSyphH"
      },
      "source": [
        "### 1.4 All characters in the text are in lowercase"
      ]
    },
    {
      "cell_type": "code",
      "metadata": {
        "id": "R2xlqjF9yqP7"
      },
      "source": [
        "sentiment_analysis_df['text'] = sentiment_analysis_df['text'].str.lower()"
      ],
      "execution_count": 125,
      "outputs": []
    },
    {
      "cell_type": "code",
      "metadata": {
        "id": "UR1e981iyr4D"
      },
      "source": [
        "US_Elections_df['text'] = US_Elections_df['text'].str.lower()"
      ],
      "execution_count": 126,
      "outputs": []
    },
    {
      "cell_type": "markdown",
      "metadata": {
        "id": "XdeWchFzy0eB"
      },
      "source": [
        "### 1.5 Remove all stop words"
      ]
    },
    {
      "cell_type": "code",
      "metadata": {
        "id": "GMjSUJJPyxhy"
      },
      "source": [
        "stop_word = pd.read_csv('stop_words.txt', names=['stop words'])"
      ],
      "execution_count": 127,
      "outputs": []
    },
    {
      "cell_type": "code",
      "metadata": {
        "id": "Bw1XZbAMcprA"
      },
      "source": [
        "# Remove symbols in the words\n",
        "def remove_non_letter(x):\n",
        "    clean_text = re.sub(r'[^a-zA-Z ]+', ' ', x)\n",
        "    return clean_text\n",
        "#     return [re.sub(r'[^a-zA-Z ]+', ' ', str(x))]"
      ],
      "execution_count": 128,
      "outputs": []
    },
    {
      "cell_type": "code",
      "metadata": {
        "id": "8GOb7o4fcprA"
      },
      "source": [
        "sentiment_analysis_df['text'] = sentiment_analysis_df['text'].apply(remove_non_letter)"
      ],
      "execution_count": 129,
      "outputs": []
    },
    {
      "cell_type": "code",
      "metadata": {
        "id": "gWdElabccprA"
      },
      "source": [
        "US_Elections_df['text'] = US_Elections_df['text'].apply(remove_non_letter)"
      ],
      "execution_count": 130,
      "outputs": []
    },
    {
      "cell_type": "code",
      "metadata": {
        "colab": {
          "base_uri": "https://localhost:8080/"
        },
        "id": "FnW_kfh4cprA",
        "outputId": "337074e5-1f1c-4c2a-a698-336e16ab9c41"
      },
      "source": [
        "# Remove inflectional endings and to return the base of a word (eg :s, ing)\n",
        "nltk.download('wordnet')\n",
        "def lemmatization(x):\n",
        "    lemmatizer = nltk.WordNetLemmatizer()\n",
        "    words_v = [lemmatizer.lemmatize(w, pos='v') for w in x.split()]\n",
        "    words_n = [lemmatizer.lemmatize(w, pos='n') for w in words_v]\n",
        "    return [lemmatizer.lemmatize(w, pos=('a')) for w in words_n]"
      ],
      "execution_count": 131,
      "outputs": [
        {
          "output_type": "stream",
          "text": [
            "[nltk_data] Downloading package wordnet to /root/nltk_data...\n",
            "[nltk_data]   Package wordnet is already up-to-date!\n"
          ],
          "name": "stdout"
        }
      ]
    },
    {
      "cell_type": "code",
      "metadata": {
        "id": "-bs1vu1NcprA"
      },
      "source": [
        "sentiment_analysis_df['text'] = sentiment_analysis_df['text'].apply(lemmatization)"
      ],
      "execution_count": 132,
      "outputs": []
    },
    {
      "cell_type": "code",
      "metadata": {
        "id": "2NvWttLkcprA"
      },
      "source": [
        "US_Elections_df['text'] = US_Elections_df['text'].apply(lemmatization)"
      ],
      "execution_count": 133,
      "outputs": []
    },
    {
      "cell_type": "code",
      "metadata": {
        "id": "Xd7hFRxrcprA"
      },
      "source": [
        "# Remove stop words from dataframe\n",
        "# nltk.download('stopwords')\n",
        "# stop_words = set(stopwords.words(\"english\"))\n",
        "\n",
        "def remove_stopword(x):\n",
        "    return [word for word in x if word not in stop_word.values]"
      ],
      "execution_count": 134,
      "outputs": []
    },
    {
      "cell_type": "code",
      "metadata": {
        "id": "OfqWeGIucprA"
      },
      "source": [
        "sentiment_analysis_df['text'] = sentiment_analysis_df['text'].apply(remove_stopword)"
      ],
      "execution_count": 135,
      "outputs": []
    },
    {
      "cell_type": "code",
      "metadata": {
        "id": "0WOoB7SQcprA"
      },
      "source": [
        "US_Elections_df['text'] = US_Elections_df['text'].apply(remove_stopword)"
      ],
      "execution_count": 136,
      "outputs": []
    },
    {
      "cell_type": "markdown",
      "metadata": {
        "id": "tJkPu-fIcprA"
      },
      "source": [
        "## 2 Exploratory analysis"
      ]
    },
    {
      "cell_type": "markdown",
      "metadata": {
        "id": "_Vm0x08NcprA"
      },
      "source": [
        "### 2.1 Determines the political party from tweet"
      ]
    },
    {
      "cell_type": "markdown",
      "metadata": {
        "id": "zDXzKFf9cprA"
      },
      "source": [
        "****\n",
        "**Political Party in US include:**\n",
        "\n",
        "1.Democratic Party: #BidenHarris2020, #Biden, #JoeBiden, #Democrats, #DiversityandInclusion, @JoeBiden, #VOTEBLUE, #bidenharria, #BidenCrimeFamily, #ChinaJoe\n",
        "\n",
        "2.Republican Party: @realDonaldTrump, @#DonaldTrump, #MAGA, @GOP, @EricTrump, @DonaldJTrumpJr, #BuildTheWall, #RedWaveRising2020, @IvankaTrump, #VoteRed, #RedWave, #Trump2020, @Mike_Pence, @TeamTrump, #TrumpCrimeFamily, #TrumpVirus, #Republican, #VoteTrumpOut, #VoteHimOut, #TrumpLiesAmericansDie\n",
        "\n",
        "3.Others\n",
        "\n",
        "****"
      ]
    },
    {
      "cell_type": "code",
      "metadata": {
        "id": "1agqPuCIcprA"
      },
      "source": [
        "# Keyword for two Parties\n",
        "democratic = ['biden', 'democrats', 'diversityandinclusion', 'voteblue', 'chinajoe']\n",
        "republican = ['trump', 'buildthewall', 'votered', 'redwave', 'republican', 'maga']\n",
        "US_Elections_df['party'] = 'NaN'\n",
        "democratic_list = []\n",
        "republican_list = []\n",
        "democratic_df = pd.DataFrame(None, columns=['text', 'sentiment', 'negative_reason'])\n",
        "republican_df = pd.DataFrame(None, columns=['text', 'sentiment', 'negative_reason'])\n",
        "other_df = pd.DataFrame(None, columns=['text', 'sentiment', 'negative_reason'])\n",
        "\n",
        "for i in range(US_Elections_df.shape[0]):\n",
        "    democratic_list = []\n",
        "    republican_list = []\n",
        "    election_list = US_Elections_df['text'][i]\n",
        "\n",
        "    for d in democratic:\n",
        "        for s in election_list:\n",
        "            if d in s:\n",
        "                democratic_list.append(s)\n",
        "    for r in republican:\n",
        "        for s in election_list:\n",
        "             if r in s:\n",
        "                republican_list.append(s)\n",
        "                        \n",
        "    if len(democratic_list) > len(republican_list):\n",
        "        democratic_df = democratic_df.append(US_Elections_df.iloc[i], ignore_index=True)\n",
        "        US_Elections_df['party'][i] = 'Democratic'\n",
        "    elif len(democratic_list) < len(republican_list):\n",
        "        republican_df = republican_df.append(US_Elections_df.iloc[i], ignore_index=True)\n",
        "        US_Elections_df['party'][i] = 'Republican'\n",
        "    elif len(democratic_list) == len(republican_list):\n",
        "        other_df = other_df.append(US_Elections_df.iloc[i], ignore_index=True) \n",
        "        US_Elections_df['party'][i] = 'Other'"
      ],
      "execution_count": 137,
      "outputs": []
    },
    {
      "cell_type": "code",
      "metadata": {
        "colab": {
          "base_uri": "https://localhost:8080/"
        },
        "id": "3a10EiwjcprA",
        "outputId": "98b3832b-d20b-4e44-954a-2e54a951d3eb"
      },
      "source": [
        "print('Democratic Party has {:.2%}'.format(democratic_df.shape[0]/US_Elections_df.shape[0]),'tweets')"
      ],
      "execution_count": 138,
      "outputs": [
        {
          "output_type": "stream",
          "text": [
            "Democratic Party has 20.65% tweets\n"
          ],
          "name": "stdout"
        }
      ]
    },
    {
      "cell_type": "code",
      "metadata": {
        "colab": {
          "base_uri": "https://localhost:8080/"
        },
        "id": "WSMs7CKIcprA",
        "outputId": "24e66e9e-7d36-48f9-edde-4a70860c9572"
      },
      "source": [
        "print('Republican Party has {:.2%}'.format(republican_df.shape[0]/US_Elections_df.shape[0]) ,'tweets')"
      ],
      "execution_count": 139,
      "outputs": [
        {
          "output_type": "stream",
          "text": [
            "Republican Party has 29.19% tweets\n"
          ],
          "name": "stdout"
        }
      ]
    },
    {
      "cell_type": "code",
      "metadata": {
        "colab": {
          "base_uri": "https://localhost:8080/"
        },
        "id": "wN_zLh8hcprA",
        "outputId": "49900733-3e56-43be-a989-4417da7a45b2"
      },
      "source": [
        "print('Other contains {:.2%}'.format(other_df.shape[0]/US_Elections_df.shape[0]) ,'tweets')"
      ],
      "execution_count": 140,
      "outputs": [
        {
          "output_type": "stream",
          "text": [
            "Other contains 50.16% tweets\n"
          ],
          "name": "stdout"
        }
      ]
    },
    {
      "cell_type": "markdown",
      "metadata": {
        "id": "RayGcEz_cprA"
      },
      "source": [
        "****\n",
        "**Description:**\n",
        "\n",
        "Choosing the simplest key words for both democratic party and republican party. The related words can be found by partial word in the key word list, like 'biden' is in the keyword list, it is able to find all words that contain 'biden', include 'joebiden' ,'bidenharris2020', etc.\n",
        "\n",
        "In one tweet, if there are more democratic party key words than republican party key words, it can be determine as a  democratic party relevant tweet. If  more republican party key words than democratic party key words, it is a republican party relevant tweet. Otherwise, this tweet determines as 'Other'.\n",
        "\n",
        "As result, among 2552 tweets, 20.65% tweets are about Democratic Party, 29.19% tweets are about Republican Party, and other contains 50.16% tweets.\n",
        "\n",
        "****"
      ]
    },
    {
      "cell_type": "code",
      "metadata": {
        "colab": {
          "base_uri": "https://localhost:8080/",
          "height": 264
        },
        "id": "QnkU1--E93Qx",
        "outputId": "31f869fd-49d8-42d1-a4fb-3a925c680aad"
      },
      "source": [
        "labels = 'Democratic Party', 'Republican Party', 'Other'\n",
        "sizes = [democratic_df.shape[0]/US_Elections_df.shape[0], republican_df.shape[0]/US_Elections_df.shape[0], \n",
        "         other_df.shape[0]/US_Elections_df.shape[0]]\n",
        "fig1, ax1 = plt.subplots()\n",
        "ax1.pie(sizes, labels=labels, autopct='%1.1f%%',\n",
        "        shadow=True, startangle=90)\n",
        "ax1.axis('equal')  \n",
        "plt.title('Percantage of tweets for each Party')\n",
        "plt.show()"
      ],
      "execution_count": 141,
      "outputs": [
        {
          "output_type": "display_data",
          "data": {
            "image/png": "[encoded data removed]",
            "text/plain": [
              "<Figure size 432x288 with 1 Axes>"
            ]
          },
          "metadata": {
            "tags": []
          }
        }
      ]
    },
    {
      "cell_type": "markdown",
      "metadata": {
        "id": "TNb1IvvexQQs"
      },
      "source": [
        "****\n",
        "**What can you say about the distribution of the political affiliations of the tweets?**\n",
        "\n",
        "From above pie chart and analyzed data, approximately half of the tweets are associated with the US election, talking about the two candidate parties. Over half of the tweets are talking about Republican party, which is related to Trump.\n",
        "\n",
        "****"
      ]
    },
    {
      "cell_type": "markdown",
      "metadata": {
        "id": "olDB6MHncprA"
      },
      "source": [
        "### 2.2 Graphical figure"
      ]
    },
    {
      "cell_type": "markdown",
      "metadata": {
        "id": "kb2RPy4NcprA"
      },
      "source": [
        "#### 2.2.1 Graph for sentiment_analysis.csv"
      ]
    },
    {
      "cell_type": "code",
      "metadata": {
        "id": "1s9I63vycprA"
      },
      "source": [
        "positive_tweet_df = sentiment_analysis_df.loc[sentiment_analysis_df['label'] == 1]\n",
        "negative_tweet_df = sentiment_analysis_df.loc[sentiment_analysis_df['label'] == 0]\n",
        "positive_tweet_count = positive_tweet_df.shape[0]\n",
        "negative_tweet_count = negative_tweet_df.shape[0]"
      ],
      "execution_count": 142,
      "outputs": []
    },
    {
      "cell_type": "code",
      "metadata": {
        "colab": {
          "base_uri": "https://localhost:8080/",
          "height": 264
        },
        "id": "lh84H1DNcprA",
        "outputId": "c79a71cb-8639-4f40-c985-57ca74c3d19b"
      },
      "source": [
        "labels = ['Positive sentiment', 'Negative sentiment']\n",
        "sizes = [positive_tweet_count, negative_tweet_count]\n",
        "fig1, ax1 = plt.subplots()\n",
        "ax1.pie(sizes, labels=labels, autopct='%1.1f%%',\n",
        "        shadow=True, startangle=90)\n",
        "ax1.axis('equal')  # Equal aspect ratio ensures that pie is drawn as a circle.\n",
        "plt.title('Percantage of positive and negative sentiment in sentiment_analysis.csv')\n",
        "plt.show()"
      ],
      "execution_count": 143,
      "outputs": [
        {
          "output_type": "display_data",
          "data": {
            "image/png": "[encoded data removed]",
            "text/plain": [
              "<Figure size 432x288 with 1 Axes>"
            ]
          },
          "metadata": {
            "tags": []
          }
        }
      ]
    },
    {
      "cell_type": "code",
      "metadata": {
        "colab": {
          "base_uri": "https://localhost:8080/",
          "height": 465
        },
        "id": "sKC7vkVwcprA",
        "outputId": "7b4a0769-94b9-4aac-9106-584a02c7682f"
      },
      "source": [
        "# Plot word world for sentiment_analysis.csv\n",
        "def join_str(x):\n",
        "    return \" \".join(x)\n",
        "single_string = sentiment_analysis_df['text'].apply(join_str)\n",
        "comment_words = \" \".join(single_string)\n",
        "wordcloud = WordCloud(min_font_size = 10).generate(comment_words) \n",
        "plt.figure(figsize = (15, 8), facecolor = None) \n",
        "plt.imshow(wordcloud) \n",
        "plt.axis(\"off\")\n",
        "plt.title('Word World for sentiment_analysis.csv')\n",
        "plt.show()"
      ],
      "execution_count": 144,
      "outputs": [
        {
          "output_type": "display_data",
          "data": {
            "image/png": "[encoded data removed]",
            "text/plain": [
              "<Figure size 1080x576 with 1 Axes>"
            ]
          },
          "metadata": {
            "tags": [],
            "needs_background": "light"
          }
        }
      ]
    },
    {
      "cell_type": "markdown",
      "metadata": {
        "id": "5kcQ9Rr-cprA"
      },
      "source": [
        "****\n",
        "**1. Pie chart shows that in sentiment_analysis.csv, among 550391 tweets, there are 67.5% tweets are positve sentiment and 32.5% tweets are negative sentiment.**\n",
        "\n",
        "**2. Through the second wordcloud chart, the key word in the sentiment_analysis.csv can be visualized.**\n",
        "\n",
        "****"
      ]
    },
    {
      "cell_type": "markdown",
      "metadata": {
        "id": "4eCP-wy-cprA"
      },
      "source": [
        "#### 2.2.2 Graph for US_Elections_2020.csv"
      ]
    },
    {
      "cell_type": "code",
      "metadata": {
        "colab": {
          "base_uri": "https://localhost:8080/",
          "height": 404
        },
        "id": "cBepeisCcprA",
        "outputId": "0045daed-3fbf-4ff0-e1dd-3f7970e51f89"
      },
      "source": [
        "plt.figure(figsize=(12,6))\n",
        "name = ['Democratic Party', 'Republican Party', 'Other']  \n",
        "positive_democratic_df = democratic_df.loc[democratic_df['sentiment'] == 1]\n",
        "negative_democratic_df = democratic_df.loc[democratic_df['sentiment'] == 0]\n",
        "\n",
        "positive_republican_df = republican_df.loc[republican_df['sentiment'] == 1]\n",
        "negative_republican_df = republican_df.loc[republican_df['sentiment'] == 0]\n",
        "\n",
        "positive_other_df = other_df.loc[other_df['sentiment'] == 1]\n",
        "negative_other_df = other_df.loc[other_df['sentiment'] == 0]\n",
        "\n",
        "value1 = [positive_democratic_df.shape[0], positive_republican_df.shape[0], positive_other_df.shape[0]]\n",
        "value2 = [negative_democratic_df.shape[0], negative_republican_df.shape[0], negative_other_df.shape[0]]\n",
        "x = range(3)\n",
        "bar1 = plt.bar(x = [i - 0.2 for i in x], height = value1, width = 0.4,\n",
        "               alpha = 0.8, color = 'r',label = 'Positive sentiment')                  \n",
        "\n",
        "bar2 = plt.bar([i + 0.2 for i in x], value2, width = 0.4,\n",
        "               alpha = 0.8,color = 'g',label = 'Negative sentiment')                  \n",
        "plt.xticks(x,name)     \n",
        "plt.ylim(0,1000)      \n",
        "plt.title('Bar chart for positive and negative sentiments in two Parties')    \n",
        "plt.xlabel('Party Name')    \n",
        "plt.ylabel('Values')      \n",
        "plt.legend() \n",
        "\n",
        "def label(rects):\n",
        "    for rect in rects:\n",
        "        height = rect.get_height()\n",
        "        plt.text(rect.get_x() + rect.get_width()/2., 1.0*height,\n",
        "                '{}'.format(height),\n",
        "                ha='center', va='bottom')\n",
        "\n",
        "label(bar1)\n",
        "label(bar2)\n",
        "plt.show()"
      ],
      "execution_count": 145,
      "outputs": [
        {
          "output_type": "display_data",
          "data": {
            "image/png": "[encoded data removed]",
            "text/plain": [
              "<Figure size 864x432 with 1 Axes>"
            ]
          },
          "metadata": {
            "tags": [],
            "needs_background": "light"
          }
        }
      ]
    },
    {
      "cell_type": "code",
      "metadata": {
        "colab": {
          "base_uri": "https://localhost:8080/",
          "height": 264
        },
        "id": "HKJbLI6LSJh-",
        "outputId": "a8cfd8f2-660c-401a-d445-b1a66872c67f"
      },
      "source": [
        "labels = ['Democratic Party Positive', 'Democratic Party Negative', \n",
        "          'Republican Party Positive', 'Republican Party Negative',\n",
        "          'Other Positive', 'Other Negative']\n",
        "sizes = [positive_democratic_df.shape[0]/US_Elections_df.shape[0], negative_democratic_df.shape[0]/US_Elections_df.shape[0],\n",
        "         positive_republican_df.shape[0]/US_Elections_df.shape[0], negative_republican_df.shape[0]/US_Elections_df.shape[0],\n",
        "         positive_other_df.shape[0]/US_Elections_df.shape[0], negative_other_df.shape[0]/US_Elections_df.shape[0]]\n",
        "fig1, ax1 = plt.subplots()\n",
        "ax1.pie(sizes, labels=labels, autopct='%1.1f%%',\n",
        "        shadow=True, startangle=90)\n",
        "ax1.axis('equal')  # Equal aspect ratio ensures that pie is drawn as a circle.\n",
        "plt.title('Percantage of positive and negative in US Parties')\n",
        "plt.show()"
      ],
      "execution_count": 146,
      "outputs": [
        {
          "output_type": "display_data",
          "data": {
            "image/png": "[encoded data removed]",
            "text/plain": [
              "<Figure size 432x288 with 1 Axes>"
            ]
          },
          "metadata": {
            "tags": []
          }
        }
      ]
    },
    {
      "cell_type": "markdown",
      "metadata": {
        "id": "8rAAIqQ1cprA"
      },
      "source": [
        "****\n",
        "**For Democratic party, the related positive sentiment tweets are more than negative sentiment tweets. And for Republican party, the related  negative sentiment tweets are more than positive sentiment tweets.**\n",
        "\n",
        "****"
      ]
    },
    {
      "cell_type": "markdown",
      "metadata": {
        "id": "wRMtiWgYcprA"
      },
      "source": [
        "## 3 Model Preparation"
      ]
    },
    {
      "cell_type": "markdown",
      "metadata": {
        "id": "SOYc6LpGcprA"
      },
      "source": [
        "### 3.1 Two different types of features"
      ]
    },
    {
      "cell_type": "code",
      "metadata": {
        "id": "w8zN7N7jcprA"
      },
      "source": [
        "# Transfer each row in dataframe to string\n",
        "def join_str(x):\n",
        "    return \" \".join(x)\n",
        "single_string = sentiment_analysis_df['text'].apply(join_str)"
      ],
      "execution_count": 147,
      "outputs": []
    },
    {
      "cell_type": "markdown",
      "metadata": {
        "id": "5gpZJDcUcprA"
      },
      "source": [
        "#### 3.1.1 Bag of Words (word frequency)"
      ]
    },
    {
      "cell_type": "code",
      "metadata": {
        "id": "NT1o14w2cprA"
      },
      "source": [
        "def bag_of_words(textdata):\n",
        "    CountVec = CountVectorizer()\n",
        "    Count_data = CountVec.fit_transform(textdata)\n",
        "    feature_name = CountVec.get_feature_names()\n",
        "#     cv_dataframe = pd.DataFrame(Count_data.T.toarray(), index=CountVec.get_feature_names(), columns=[\"Word Frequency\"])\n",
        "#     cv_dataframe = cv_dataframe.sort_values('Word Frequency', ascending=False)\n",
        "    return Count_data"
      ],
      "execution_count": 148,
      "outputs": []
    },
    {
      "cell_type": "code",
      "metadata": {
        "colab": {
          "base_uri": "https://localhost:8080/"
        },
        "id": "h5MekGZccprA",
        "outputId": "b01fb694-cdae-486a-b7dd-1ba5bfcf07bb"
      },
      "source": [
        "bag_of_words_X = bag_of_words(single_string)\n",
        "bag_of_words_X"
      ],
      "execution_count": 149,
      "outputs": [
        {
          "output_type": "execute_result",
          "data": {
            "text/plain": [
              "<550391x317251 sparse matrix of type '<class 'numpy.int64'>'\n",
              "\twith 3510458 stored elements in Compressed Sparse Row format>"
            ]
          },
          "metadata": {
            "tags": []
          },
          "execution_count": 149
        }
      ]
    },
    {
      "cell_type": "markdown",
      "metadata": {
        "id": "PI4tjQfRcprA"
      },
      "source": [
        "****\n",
        "**Limitation of bag of words:**\n",
        "\n",
        "1.The model ignores the location information of the word.\n",
        "\n",
        "2.Bag of word models doesn’t respect the semantics of the word.\n",
        "\n",
        "3.The range of vocabulary is a big issue faced by the Bag-of-Words model.\n",
        "\n",
        "****"
      ]
    },
    {
      "cell_type": "markdown",
      "metadata": {
        "id": "wzyQa7qzcprA"
      },
      "source": [
        "#### 3.1.2 TF-IDF"
      ]
    },
    {
      "cell_type": "code",
      "metadata": {
        "id": "tuAqNy7xcprA"
      },
      "source": [
        "# Calculate TF-IDF score and return them in order\n",
        "def tf_idf(textdata):\n",
        "    tfIdfVectorizer = TfidfVectorizer()\n",
        "    tfIdf = tfIdfVectorizer.fit_transform(textdata)\n",
        "#     tfIdf_df = pd.DataFrame(tfIdf[0].T.toarray(), index=tfIdfVectorizer.get_feature_names(), columns=[\"TF-IDF\"])\n",
        "#     tfIdf_df = tfIdf_df.sort_values('TF-IDF', ascending=False)\n",
        "    return tfIdf"
      ],
      "execution_count": 150,
      "outputs": []
    },
    {
      "cell_type": "code",
      "metadata": {
        "colab": {
          "base_uri": "https://localhost:8080/"
        },
        "id": "eleF2xyMcprA",
        "outputId": "5b719d9e-004c-46ac-c1f1-a1268df559fc"
      },
      "source": [
        "tfIdf_X = tf_idf(single_string)\n",
        "tfIdf_X"
      ],
      "execution_count": 151,
      "outputs": [
        {
          "output_type": "execute_result",
          "data": {
            "text/plain": [
              "<550391x317251 sparse matrix of type '<class 'numpy.float64'>'\n",
              "\twith 3510458 stored elements in Compressed Sparse Row format>"
            ]
          },
          "metadata": {
            "tags": []
          },
          "execution_count": 151
        }
      ]
    },
    {
      "cell_type": "markdown",
      "metadata": {
        "id": "lzy8gwhCcprB"
      },
      "source": [
        "****\n",
        "**The highest ranking words in terms of TF-IDF score can represent the keywords of that document, which means apply TF-IDF, we can very easily sort the TF-IDF score to extract the keywords from a text.**\n",
        "\n",
        "****"
      ]
    },
    {
      "cell_type": "markdown",
      "metadata": {
        "id": "8pn4h3YncprB"
      },
      "source": [
        "### 3.2 Split training data and test data"
      ]
    },
    {
      "cell_type": "code",
      "metadata": {
        "id": "k9Y5nbafcprB"
      },
      "source": [
        "Y_data = sentiment_analysis_df['label']"
      ],
      "execution_count": 152,
      "outputs": []
    },
    {
      "cell_type": "code",
      "metadata": {
        "colab": {
          "base_uri": "https://localhost:8080/"
        },
        "id": "cu5-0B0xcprB",
        "outputId": "a7bf4810-d32a-4a39-e4ca-89238bb5d6f4"
      },
      "source": [
        "BW_x_train, BW_x_test, BW_y_train, BW_y_test = train_test_split(bag_of_words_X, Y_data, test_size = 0.30, random_state = 42)\n",
        "TfIdf_x_train, TfIdf_x_test, TfIdf_y_train, TfIdf_y_test = train_test_split(tfIdf_X, Y_data, test_size = 0.30, random_state = 42)\n",
        "print('Training set has shape',BW_x_train.shape, 'and test set has shape', BW_x_test.shape)\n",
        "print('Training set has shape',np.array(BW_y_train).reshape(-1,1).shape, 'and test set has shape', np.array(BW_y_test).reshape(-1,1).shape)"
      ],
      "execution_count": 153,
      "outputs": [
        {
          "output_type": "stream",
          "text": [
            "Training set has shape (385273, 317251) and test set has shape (165118, 317251)\n",
            "Training set has shape (385273, 1) and test set has shape (165118, 1)\n"
          ],
          "name": "stdout"
        }
      ]
    },
    {
      "cell_type": "markdown",
      "metadata": {
        "id": "S9w9VkzbcprB"
      },
      "source": [
        "## 4 Model implementation and tuning"
      ]
    },
    {
      "cell_type": "markdown",
      "metadata": {
        "id": "PDzDxozpcprB"
      },
      "source": [
        "### 4.1 Train models on the training data"
      ]
    },
    {
      "cell_type": "markdown",
      "metadata": {
        "id": "Tojd8OaVcprB"
      },
      "source": [
        "#### 4.1.1 Logistic regression"
      ]
    },
    {
      "cell_type": "code",
      "metadata": {
        "id": "k-LnfwxycprB"
      },
      "source": [
        "warnings.filterwarnings(\"ignore\")"
      ],
      "execution_count": 58,
      "outputs": []
    },
    {
      "cell_type": "code",
      "metadata": {
        "id": "wK8yilZ-f5ed"
      },
      "source": [
        "# Grid search\n",
        "def grid_serach(parameters, model, X, Y):\n",
        "    parameters = parameters\n",
        "    grid_obj = GridSearchCV(model, parameters, scoring='accuracy')\n",
        "    grid_obj = grid_obj.fit(X, Y)\n",
        "    best_hyper = grid_obj.best_params_\n",
        "    best_est = grid_obj.best_estimator_\n",
        "    return best_hyper, best_est"
      ],
      "execution_count": 154,
      "outputs": []
    },
    {
      "cell_type": "code",
      "metadata": {
        "id": "wrXitdqwjPD2"
      },
      "source": [
        "# Grid search for logistic regression bag of words\n",
        "best_hyper_BW_LG, best_est_BW_LG = grid_serach({'C': np.arange(0,3,1)}, \n",
        "                                               LogisticRegression(), BW_x_train, BW_y_train)"
      ],
      "execution_count": 60,
      "outputs": []
    },
    {
      "cell_type": "code",
      "metadata": {
        "colab": {
          "base_uri": "https://localhost:8080/"
        },
        "id": "g58pdolJliKV",
        "outputId": "927acdbe-4819-4942-b569-d620f185beff"
      },
      "source": [
        "print('Best hyparparameter for logistic regression bag of words', best_hyper_BW_LG)\n",
        "print('Best model for logistic regression bag of words', best_est_BW_LG)"
      ],
      "execution_count": 61,
      "outputs": [
        {
          "output_type": "stream",
          "text": [
            "Best hyparparameter for logistic regression bag of words {'C': 2}\n",
            "Best model for logistic regression bag of words LogisticRegression(C=2, class_weight=None, dual=False, fit_intercept=True,\n",
            "                   intercept_scaling=1, l1_ratio=None, max_iter=100,\n",
            "                   multi_class='auto', n_jobs=None, penalty='l2',\n",
            "                   random_state=None, solver='lbfgs', tol=0.0001, verbose=0,\n",
            "                   warm_start=False)\n"
          ],
          "name": "stdout"
        }
      ]
    },
    {
      "cell_type": "code",
      "metadata": {
        "id": "aQ-58Gq7cprB"
      },
      "source": [
        "# Bag of word\n",
        "model_BW_LG = best_est_BW_LG\n",
        "model_BW_LG.fit(BW_x_train, BW_y_train)\n",
        "prediction_BW_LG = model_BW_LG.predict(BW_x_test)\n",
        "accuracy_BW_LG = accuracy_score(BW_y_test, prediction_BW_LG)"
      ],
      "execution_count": 65,
      "outputs": []
    },
    {
      "cell_type": "code",
      "metadata": {
        "colab": {
          "base_uri": "https://localhost:8080/"
        },
        "id": "HZ4T_yiJcprB",
        "outputId": "61ab1dc7-c16d-40f6-91c6-9085f3094f51"
      },
      "source": [
        "print ('Accuracy for Bag of word in test set using Logistic Regression:', accuracy_BW_LG)"
      ],
      "execution_count": 73,
      "outputs": [
        {
          "output_type": "stream",
          "text": [
            "Accuracy for Bag of word in test set using Logistic Regression: 0.9580663525478749\n"
          ],
          "name": "stdout"
        }
      ]
    },
    {
      "cell_type": "code",
      "metadata": {
        "id": "Aiy1gaFLmzyC"
      },
      "source": [
        "# Grid search for logistic regression TF-IDF\n",
        "best_hyper_TfIdf_LG, best_est_TfIdf_LG = grid_serach({'C': np.arange(0,3,1)}, \n",
        "                                                     LogisticRegression(), TfIdf_x_train, TfIdf_y_train)"
      ],
      "execution_count": 155,
      "outputs": []
    },
    {
      "cell_type": "code",
      "metadata": {
        "colab": {
          "base_uri": "https://localhost:8080/"
        },
        "id": "ylq_YqaYobn4",
        "outputId": "a462d759-37b0-4557-bc28-b32f50dce319"
      },
      "source": [
        "print('Best hyparparameter for logistic regression TF-IDF', best_hyper_TfIdf_LG)\n",
        "print('Best model for logistic regression TF-IDF', best_est_TfIdf_LG)"
      ],
      "execution_count": 156,
      "outputs": [
        {
          "output_type": "stream",
          "text": [
            "Best hyparparameter for logistic regression TF-IDF {'C': 2}\n",
            "Best model for logistic regression TF-IDF LogisticRegression(C=2, class_weight=None, dual=False, fit_intercept=True,\n",
            "                   intercept_scaling=1, l1_ratio=None, max_iter=100,\n",
            "                   multi_class='auto', n_jobs=None, penalty='l2',\n",
            "                   random_state=None, solver='lbfgs', tol=0.0001, verbose=0,\n",
            "                   warm_start=False)\n"
          ],
          "name": "stdout"
        }
      ]
    },
    {
      "cell_type": "code",
      "metadata": {
        "id": "hP7Ho1cNcprB"
      },
      "source": [
        "# TF-IDF\n",
        "model_TfIdf_LG = best_est_TfIdf_LG\n",
        "model_TfIdf_LG.fit(TfIdf_x_train, TfIdf_y_train)\n",
        "prediction_TfIdf_LG = model_TfIdf_LG.predict(TfIdf_x_test)\n",
        "accuracy_TfIdf_LG = accuracy_score(TfIdf_y_test, prediction_TfIdf_LG)"
      ],
      "execution_count": 157,
      "outputs": []
    },
    {
      "cell_type": "code",
      "metadata": {
        "colab": {
          "base_uri": "https://localhost:8080/"
        },
        "id": "5ZK8MK5ucprB",
        "outputId": "53598978-f0fb-4d74-e95a-7d03179ebb31"
      },
      "source": [
        "print ('Accuracy for TF-IDF in test set using Logistic Regression:', accuracy_TfIdf_LG)"
      ],
      "execution_count": null,
      "outputs": [
        {
          "output_type": "stream",
          "text": [
            "Accuracy for TF-IDF in test set using Logistic Regression: 0.9588839496602429\n"
          ],
          "name": "stdout"
        }
      ]
    },
    {
      "cell_type": "markdown",
      "metadata": {
        "id": "ucWcbz3BcprB"
      },
      "source": [
        " #### 4.1.2 Decision trees"
      ]
    },
    {
      "cell_type": "code",
      "metadata": {
        "id": "YP6DtfMCcprB"
      },
      "source": [
        "# Bag of word\n",
        "DT_BW = DecisionTreeClassifier()\n",
        "DT_BW = DT_BW.fit(BW_x_train, BW_y_train)\n",
        "prediction_BW_DT = DT_BW.predict(BW_x_test)\n",
        "accuracy_BW_DT = accuracy_score(BW_y_test, prediction_BW_DT)"
      ],
      "execution_count": null,
      "outputs": []
    },
    {
      "cell_type": "code",
      "metadata": {
        "colab": {
          "base_uri": "https://localhost:8080/"
        },
        "id": "zzRLOhnzcprB",
        "outputId": "bad05ea5-6ab7-421b-8993-68e863b6f24e"
      },
      "source": [
        "print ('Accuracy for Bag of word in test set using Decision Trees:', accuracy_BW_DT)"
      ],
      "execution_count": null,
      "outputs": [
        {
          "output_type": "stream",
          "text": [
            "Accuracy for Bag of word in test set using Decision Trees: 0.9319335263266271\n"
          ],
          "name": "stdout"
        }
      ]
    },
    {
      "cell_type": "code",
      "metadata": {
        "id": "uBW1Ss9ycprB"
      },
      "source": [
        "# TF-IDF\n",
        "DT_TfIdf = DecisionTreeClassifier()\n",
        "DT_TfIdf = DT_TfIdf.fit(TfIdf_x_train, TfIdf_y_train)\n",
        "prediction_TfIdf_DT = DT_TfIdf.predict(TfIdf_x_test)\n",
        "accuracy_TfIdf_DT = accuracy_score(TfIdf_y_test, prediction_TfIdf_DT)"
      ],
      "execution_count": null,
      "outputs": []
    },
    {
      "cell_type": "code",
      "metadata": {
        "colab": {
          "base_uri": "https://localhost:8080/"
        },
        "id": "dAQXj1KwcprB",
        "outputId": "8aa7fbc0-1e84-4e3f-a903-517579e3478b"
      },
      "source": [
        "print ('Accuracy for TF-IDF in test set using Decision Trees:', accuracy_TfIdf_DT)"
      ],
      "execution_count": null,
      "outputs": [
        {
          "output_type": "stream",
          "text": [
            "Accuracy for TF-IDF in test set using Decision Trees: 0.9292990467423298\n"
          ],
          "name": "stdout"
        }
      ]
    },
    {
      "cell_type": "markdown",
      "metadata": {
        "id": "WKHt3KmGcprB"
      },
      "source": [
        "#### 4.1.3 k-NN"
      ]
    },
    {
      "cell_type": "code",
      "metadata": {
        "id": "8sJUpUZRcprB"
      },
      "source": [
        "# Bag of word\n",
        "knn_BW = KNeighborsClassifier()\n",
        "knn_BW = knn_BW.fit(BW_x_train, BW_y_train)\n",
        "prediction_BW_knn = knn_BW.predict(BW_x_test)\n",
        "accuracy_BW_knn = accuracy_score(BW_y_test, prediction_BW_knn)"
      ],
      "execution_count": null,
      "outputs": []
    },
    {
      "cell_type": "code",
      "metadata": {
        "id": "XY_UWF57cprB",
        "outputId": "44c3eb8c-11ee-4925-f2a5-36b20de7f1ae"
      },
      "source": [
        "print ('Accuracy for Bag of word in test set using K-NN:', accuracy_BW_knn)"
      ],
      "execution_count": null,
      "outputs": [
        {
          "output_type": "stream",
          "text": [
            "Accuracy for Bag of word in test set using K-NN: 0.8998655506970772\n"
          ],
          "name": "stdout"
        }
      ]
    },
    {
      "cell_type": "code",
      "metadata": {
        "id": "jKt_tvEScprB"
      },
      "source": [
        "# TF-IDF\n",
        "knn_TfIdf = KNeighborsClassifier()\n",
        "knn_TfIdf = knn_TfIdf.fit(TfIdf_x_train, TfIdf_y_train)\n",
        "prediction_TfIdf_knn = knn_TfIdf.predict(TfIdf_x_test)\n",
        "accuracy_TfIdf_knn = accuracy_score(TfIdf_y_test, prediction_TfIdf_knn)"
      ],
      "execution_count": null,
      "outputs": []
    },
    {
      "cell_type": "code",
      "metadata": {
        "id": "VYnzMD3lcprB",
        "outputId": "b6508582-7ccc-45c0-a77a-25938f9815d4"
      },
      "source": [
        "print ('Accuracy for TF-IDF in test set using K-NN:', accuracy_TfIdf_knn)"
      ],
      "execution_count": null,
      "outputs": [
        {
          "output_type": "stream",
          "text": [
            "Accuracy for TF-IDF in test set using K-NN: 0.621519155997529\n"
          ],
          "name": "stdout"
        }
      ]
    },
    {
      "cell_type": "markdown",
      "metadata": {
        "id": "dCHGnLsJcprB"
      },
      "source": [
        "#### 4.1.4 Naive Bayes"
      ]
    },
    {
      "cell_type": "markdown",
      "metadata": {
        "id": "fKBlXWx8cprB"
      },
      "source": [
        "****\n",
        "**Note: MultinomialNB implements the naive Bayes algorithm for multinomially distributed data. It is one of the two classic naive Bayes variants used in text classification**\n",
        "\n",
        "****"
      ]
    },
    {
      "cell_type": "code",
      "metadata": {
        "id": "SlDnghpQwiHF"
      },
      "source": [
        "# Grid search for Naive Bayes bag of words\n",
        "best_hyper_NB_BW, best_est_NB_BW = grid_serach({'alpha':np.arange(0,1,0.1)}, \n",
        "                                               MultinomialNB(), BW_x_train, BW_y_train)"
      ],
      "execution_count": null,
      "outputs": []
    },
    {
      "cell_type": "code",
      "metadata": {
        "colab": {
          "base_uri": "https://localhost:8080/"
        },
        "id": "FBsWJp2ax3mG",
        "outputId": "42aa695f-7270-47cc-a399-2beffa82e6b0"
      },
      "source": [
        "print('Best hyparparameter for Naive Bayes bag of words', best_hyper_NB_BW)\n",
        "print('Best model for Naive Bayes bag of words', best_est_NB_BW)"
      ],
      "execution_count": null,
      "outputs": [
        {
          "output_type": "stream",
          "text": [
            "Best hyparparameter for Naive Bayes bag of words {'alpha': 0.9}\n",
            "Best model for Naive Bayes bag of words MultinomialNB(alpha=0.9, class_prior=None, fit_prior=True)\n"
          ],
          "name": "stdout"
        }
      ]
    },
    {
      "cell_type": "code",
      "metadata": {
        "id": "U7dPkWOecprB"
      },
      "source": [
        "# Bag of word\n",
        "NB_BW = MultinomialNB(alpha=0.9, class_prior=None, fit_prior=True)\n",
        "NB_BW = NB_BW.fit(BW_x_train, BW_y_train)\n",
        "prediction_BW_NB = NB_BW.predict(BW_x_test)\n",
        "accuracy_BW_NB = accuracy_score(BW_y_test, prediction_BW_NB)"
      ],
      "execution_count": null,
      "outputs": []
    },
    {
      "cell_type": "code",
      "metadata": {
        "colab": {
          "base_uri": "https://localhost:8080/"
        },
        "id": "DUKqgULocprB",
        "outputId": "b312125a-093a-4707-c389-1a4e87b411e3"
      },
      "source": [
        "print ('Accuracy for Bag of word in test set using Naive Bayes:', accuracy_BW_NB)"
      ],
      "execution_count": null,
      "outputs": [
        {
          "output_type": "stream",
          "text": [
            "Accuracy for Bag of word in test set using Naive Bayes: 0.9319093012270013\n"
          ],
          "name": "stdout"
        }
      ]
    },
    {
      "cell_type": "code",
      "metadata": {
        "id": "oybqlBNEyC-V"
      },
      "source": [
        "# Grid search for Naive Bayes TF-IDF\n",
        "best_hyper_TfIdf_BW, best_est_TfIdf_BW = grid_serach({'alpha':np.arange(0,1,0.1)}, \n",
        "                                                     MultinomialNB(), TfIdf_x_train, TfIdf_y_train)"
      ],
      "execution_count": null,
      "outputs": []
    },
    {
      "cell_type": "code",
      "metadata": {
        "colab": {
          "base_uri": "https://localhost:8080/"
        },
        "id": "DN_FT6rSyTUh",
        "outputId": "5cd4cd8f-1f4f-4ed8-a73c-19ab83e05070"
      },
      "source": [
        "print('Best hyparparameter for Naive Bayes TF-IDF', best_hyper_TfIdf_BW)\n",
        "print('Best model for Naive Bayes TF-IDF', best_est_TfIdf_BW)"
      ],
      "execution_count": null,
      "outputs": [
        {
          "output_type": "stream",
          "text": [
            "Best hyparparameter for Naive Bayes TF-IDF {'alpha': 0.30000000000000004}\n",
            "Best model for Naive Bayes TF-IDF MultinomialNB(alpha=0.30000000000000004, class_prior=None, fit_prior=True)\n"
          ],
          "name": "stdout"
        }
      ]
    },
    {
      "cell_type": "code",
      "metadata": {
        "id": "dnQaGDi8cprB"
      },
      "source": [
        "# TF-IDF\n",
        "NB_TfIdf = MultinomialNB(alpha=0.3, class_prior=None, fit_prior=True)\n",
        "NB_TfIdf = NB_TfIdf.fit(TfIdf_x_train, TfIdf_y_train)\n",
        "prediction_TfIdf_NB = NB_TfIdf.predict(TfIdf_x_test)\n",
        "accuracy_TfIdf_NB = accuracy_score(TfIdf_y_test, prediction_TfIdf_NB)"
      ],
      "execution_count": null,
      "outputs": []
    },
    {
      "cell_type": "code",
      "metadata": {
        "colab": {
          "base_uri": "https://localhost:8080/"
        },
        "id": "K9ZVWsuqcprB",
        "outputId": "821cdbaa-a6e3-404f-a043-c5ad54908070"
      },
      "source": [
        "print ('Accuracy for TF-IDF in test set using Naive Bayes:', accuracy_TfIdf_NB)"
      ],
      "execution_count": null,
      "outputs": [
        {
          "output_type": "stream",
          "text": [
            "Accuracy for TF-IDF in test set using Naive Bayes: 0.9111726159473831\n"
          ],
          "name": "stdout"
        }
      ]
    },
    {
      "cell_type": "markdown",
      "metadata": {
        "id": "oNVwvX5HcprC"
      },
      "source": [
        "#### 4.1.5 SVM"
      ]
    },
    {
      "cell_type": "markdown",
      "metadata": {
        "id": "UJKEtwxscprC"
      },
      "source": [
        "****\n",
        "**Noet: linearSVC is similar to SVC with parameter kernel=’linear’, but implemented in terms of liblinear rather than libsvm, so it has more flexibility in the choice of penalties and loss functions and should scale better to large numbers of samples. Since our dataset has more than 550,000 features, linearSVC is more suitablt to our situation.**\n",
        "\n",
        "****"
      ]
    },
    {
      "cell_type": "code",
      "metadata": {
        "id": "qSvDYgk-zbQT"
      },
      "source": [
        "# Grid search for SVM bag of words\n",
        "best_hyper_SVM_BW, best_est_SVM_BW = grid_serach({'penalty': ['l1', 'l2'], 'loss':['hinge', 'squared_hinge']}, \n",
        "                                                   LinearSVC(), BW_x_train, BW_y_train)"
      ],
      "execution_count": null,
      "outputs": []
    },
    {
      "cell_type": "code",
      "metadata": {
        "colab": {
          "base_uri": "https://localhost:8080/"
        },
        "id": "WLnTqDmd0XBo",
        "outputId": "4afc679f-b098-4e58-c47f-6de19df0d422"
      },
      "source": [
        "print('Best hyparparameter for SVM bag of words', best_hyper_SVM_BW)\n",
        "print('Best model for SVM bag of words', best_est_SVM_BW)"
      ],
      "execution_count": null,
      "outputs": [
        {
          "output_type": "stream",
          "text": [
            "Best hyparparameter for SVM bag of words {'loss': 'hinge', 'penalty': 'l2'}\n",
            "Best model for SVM bag of words LinearSVC(C=1.0, class_weight=None, dual=True, fit_intercept=True,\n",
            "          intercept_scaling=1, loss='hinge', max_iter=1000, multi_class='ovr',\n",
            "          penalty='l2', random_state=None, tol=0.0001, verbose=0)\n"
          ],
          "name": "stdout"
        }
      ]
    },
    {
      "cell_type": "code",
      "metadata": {
        "id": "N72x9kDmcprC"
      },
      "source": [
        "# Bag of word\n",
        "SVM_BW = LinearSVC(C=1.0, loss='hinge', penalty='l2')\n",
        "SVM_BW = SVM_BW.fit(BW_x_train, BW_y_train)\n",
        "prediction_BW_SVM = SVM_BW.predict(BW_x_test)\n",
        "accuracy_BW_SVM = accuracy_score(BW_y_test, prediction_BW_SVM)"
      ],
      "execution_count": null,
      "outputs": []
    },
    {
      "cell_type": "code",
      "metadata": {
        "colab": {
          "base_uri": "https://localhost:8080/"
        },
        "id": "BKlJ24JmcprC",
        "outputId": "6aa14323-da0b-4395-a4ef-90bc25bd5441"
      },
      "source": [
        "print ('Accuracy for Bag of word in test set using SVM:', accuracy_BW_SVM)"
      ],
      "execution_count": null,
      "outputs": [
        {
          "output_type": "stream",
          "text": [
            "Accuracy for Bag of word in test set using SVM: 0.955607504935864\n"
          ],
          "name": "stdout"
        }
      ]
    },
    {
      "cell_type": "code",
      "metadata": {
        "id": "sdusyIU81e7V"
      },
      "source": [
        "# Grid search for SVM TF-IDF\n",
        "best_hyper_SVM_TfIdf, best_est_SVM_TfIdf = grid_serach({'penalty': ['l1', 'l2'], 'loss':['hinge', 'squared_hinge']}, \n",
        "                                                   LinearSVC(), TfIdf_x_train, TfIdf_y_train)"
      ],
      "execution_count": null,
      "outputs": []
    },
    {
      "cell_type": "code",
      "metadata": {
        "colab": {
          "base_uri": "https://localhost:8080/"
        },
        "id": "Qkfo6Fmn17_q",
        "outputId": "458cc5a1-380a-4df6-8ee7-016fa35ce521"
      },
      "source": [
        "print('Best hyparparameter for SVM TF-IDF', best_hyper_SVM_TfIdf)\n",
        "print('Best model for SVM TF-IDF', best_est_SVM_TfIdf)"
      ],
      "execution_count": null,
      "outputs": [
        {
          "output_type": "stream",
          "text": [
            "Best hyparparameter for SVM TF-IDF {'loss': 'hinge', 'penalty': 'l2'}\n",
            "Best model for SVM TF-IDF LinearSVC(C=1.0, class_weight=None, dual=True, fit_intercept=True,\n",
            "          intercept_scaling=1, loss='hinge', max_iter=1000, multi_class='ovr',\n",
            "          penalty='l2', random_state=None, tol=0.0001, verbose=0)\n"
          ],
          "name": "stdout"
        }
      ]
    },
    {
      "cell_type": "code",
      "metadata": {
        "id": "JmmYr2pmcprC"
      },
      "source": [
        "# TF-IDF\n",
        "SVM_TfIdf = LinearSVC(C=1.0, loss='hinge', penalty='l2')\n",
        "SVM_TfIdf = SVM_TfIdf.fit(TfIdf_x_train, TfIdf_y_train)\n",
        "prediction_TfIdf_SVM = SVM_TfIdf.predict(TfIdf_x_test)\n",
        "accuracy_TfIdf_SVM = accuracy_score(TfIdf_y_test, prediction_TfIdf_SVM)"
      ],
      "execution_count": null,
      "outputs": []
    },
    {
      "cell_type": "code",
      "metadata": {
        "colab": {
          "base_uri": "https://localhost:8080/"
        },
        "id": "SqpUjwe7cprC",
        "outputId": "9d78ef86-4eb6-479a-c7ed-45a2729702d5"
      },
      "source": [
        "print ('Accuracy for TF-IDF in test set using SVM:', accuracy_TfIdf_SVM)"
      ],
      "execution_count": null,
      "outputs": [
        {
          "output_type": "stream",
          "text": [
            "Accuracy for TF-IDF in test set using SVM: 0.9584115602175414\n"
          ],
          "name": "stdout"
        }
      ]
    },
    {
      "cell_type": "markdown",
      "metadata": {
        "id": "ZQ3_MfyscprC"
      },
      "source": [
        "#### 4.1.6 Random forest"
      ]
    },
    {
      "cell_type": "code",
      "metadata": {
        "id": "_8k8ab0_cprC"
      },
      "source": [
        "# Bag of word\n",
        "RF_BW = RandomForestClassifier(n_estimators=10)\n",
        "RF_BW = RF_BW.fit(BW_x_train, BW_y_train)\n",
        "prediction_BW_RF = RF_BW.predict(BW_x_test)\n",
        "accuracy_BW_RF = accuracy_score(BW_y_test, prediction_BW_RF)"
      ],
      "execution_count": null,
      "outputs": []
    },
    {
      "cell_type": "code",
      "metadata": {
        "id": "nhCNSvZ2cprC",
        "outputId": "8e14aa03-5157-4ede-a8f6-db37b033fcdd"
      },
      "source": [
        "print ('Accuracy for Bag of word in test set using Random Forest:', accuracy_BW_RF)"
      ],
      "execution_count": null,
      "outputs": [
        {
          "output_type": "stream",
          "text": [
            "Accuracy for Bag of word in test set using Random Forest: 0.9399883719521797\n"
          ],
          "name": "stdout"
        }
      ]
    },
    {
      "cell_type": "code",
      "metadata": {
        "id": "_CnmKKIAcprC"
      },
      "source": [
        "# TF-IDF\n",
        "RF_TfIdf = RandomForestClassifier(n_estimators=10)\n",
        "RF_TfIdf = RF_TfIdf.fit(TfIdf_x_train, TfIdf_y_train)\n",
        "prediction_TfIdf_RF = RF_TfIdf.predict(TfIdf_x_test)\n",
        "accuracy_TfIdf_RF = accuracy_score(TfIdf_y_test, prediction_TfIdf_RF)"
      ],
      "execution_count": null,
      "outputs": []
    },
    {
      "cell_type": "code",
      "metadata": {
        "id": "1mBHgDQYcprC",
        "outputId": "483fa07b-1a85-442b-b27b-cb7e212bed69"
      },
      "source": [
        "print ('Accuracy for TF-IDF in test set using Random Forest:', accuracy_TfIdf_RF)"
      ],
      "execution_count": null,
      "outputs": [
        {
          "output_type": "stream",
          "text": [
            "Accuracy for TF-IDF in test set using Random Forest: 0.942174687193401\n"
          ],
          "name": "stdout"
        }
      ]
    },
    {
      "cell_type": "markdown",
      "metadata": {
        "id": "uSrE8vCjcprC"
      },
      "source": [
        "#### 4.1.7 XGBoost"
      ]
    },
    {
      "cell_type": "code",
      "metadata": {
        "id": "DLFkx-V3cprC"
      },
      "source": [
        "XGB_BW = xgb.XGBClassifier()\n",
        "XGB_BW = XGB_BW.fit(BW_x_train, BW_y_train)\n",
        "prediction_BW_XGB = XGB_BW.predict(BW_x_test)\n",
        "accuracy_BW_XGB = accuracy_score(BW_y_test, prediction_BW_XGB)"
      ],
      "execution_count": null,
      "outputs": []
    },
    {
      "cell_type": "code",
      "metadata": {
        "colab": {
          "base_uri": "https://localhost:8080/"
        },
        "id": "M7uuq_4LcprC",
        "outputId": "d70c23e7-047a-4a1d-d707-cae7fa0cfb02"
      },
      "source": [
        "print ('Accuracy for Bag of word in test set using XGBoost:', accuracy_BW_XGB)"
      ],
      "execution_count": null,
      "outputs": [
        {
          "output_type": "stream",
          "text": [
            "Accuracy for Bag of word in test set using XGBoost: 0.8419615063166948\n"
          ],
          "name": "stdout"
        }
      ]
    },
    {
      "cell_type": "code",
      "metadata": {
        "id": "QCwbmxsTcprC"
      },
      "source": [
        "XGB_TfIdf = xgb.XGBClassifier()\n",
        "XGB_TfIdf = XGB_TfIdf.fit(TfIdf_x_train, TfIdf_y_train)\n",
        "prediction_TfIdf_XGB = XGB_TfIdf.predict(TfIdf_x_test)\n",
        "accuracy_TfIdf_XGB = accuracy_score(TfIdf_y_test, prediction_TfIdf_XGB)"
      ],
      "execution_count": null,
      "outputs": []
    },
    {
      "cell_type": "code",
      "metadata": {
        "colab": {
          "base_uri": "https://localhost:8080/"
        },
        "id": "HiGE-u2-cprC",
        "outputId": "f217890a-28b0-4b8f-f1be-fb96fc824bef"
      },
      "source": [
        "print ('Accuracy for TF-IDF in test set using XGBoost:', accuracy_TfIdf_XGB)"
      ],
      "execution_count": null,
      "outputs": [
        {
          "output_type": "stream",
          "text": [
            "Accuracy for TF-IDF in test set using XGBoost: 0.8426276965564021\n"
          ],
          "name": "stdout"
        }
      ]
    },
    {
      "cell_type": "markdown",
      "metadata": {
        "id": "-C_PD_t9KeuK"
      },
      "source": [
        "### 4.2 Best model performance on the 2020 US elections data"
      ]
    },
    {
      "cell_type": "markdown",
      "metadata": {
        "id": "1yqcnvXAHlny"
      },
      "source": [
        "**Result Table**\n",
        "\n",
        "| Feature |Logistic Regression | Decision trees | k-NN | Naive Bayes | SVM | Random Forest | XGBoost |\n",
        "|:---:|:---:|:---:|:---:|:---:|:---:|:---:|:---:|\n",
        "| Bag of Words | 0.95807 | 0.931933 | 0.89986 | 0.93191 | 0.955607 | 0.93999 | 0.84196 |\n",
        "| TF-IDF | 0.95888 | 0.92929 | 0.62151 | 0.91117 | 0.95841| 0.94217 | 0.84263 |"
      ]
    },
    {
      "cell_type": "markdown",
      "metadata": {
        "id": "7C8BgN3VEC23"
      },
      "source": [
        "**Conclusion: best model is Logistic regression for TF-IDF feature.**"
      ]
    },
    {
      "cell_type": "code",
      "metadata": {
        "colab": {
          "base_uri": "https://localhost:8080/"
        },
        "id": "zabqkDSVG0MK",
        "outputId": "9f5b56ad-5d52-4b7e-b59f-84a59392d4bd"
      },
      "source": [
        "# Tranform the US election to same feature size as generic data\n",
        "single_string_US = US_Elections_df['text'].apply(join_str)\n",
        "tfIdfVectorizer = TfidfVectorizer()\n",
        "tfIdfVectorizer.fit(single_string)\n",
        "tfIdf_X_US = tfIdfVectorizer.transform(single_string_US)\n",
        "tfIdf_X_US"
      ],
      "execution_count": 158,
      "outputs": [
        {
          "output_type": "execute_result",
          "data": {
            "text/plain": [
              "<2552x317251 sparse matrix of type '<class 'numpy.float64'>'\n",
              "\twith 17545 stored elements in Compressed Sparse Row format>"
            ]
          },
          "metadata": {
            "tags": []
          },
          "execution_count": 158
        }
      ]
    },
    {
      "cell_type": "code",
      "metadata": {
        "colab": {
          "base_uri": "https://localhost:8080/"
        },
        "id": "uSyptDPuOAdK",
        "outputId": "a207e93e-8428-4cf1-a884-225ef9df0a10"
      },
      "source": [
        "y_us = US_Elections_df['sentiment']\n",
        "prediction_us = model_TfIdf_LG.predict(tfIdf_X_US)\n",
        "accuracy_us = accuracy_score(y_us, prediction_us)\n",
        "print('The best performance on the 2020 US elections data has accuracy', accuracy_us)"
      ],
      "execution_count": 159,
      "outputs": [
        {
          "output_type": "stream",
          "text": [
            "The best performance on the 2020 US elections data has accuracy 0.7127742946708464\n"
          ],
          "name": "stdout"
        }
      ]
    },
    {
      "cell_type": "markdown",
      "metadata": {
        "id": "7214ObnmAyY3"
      },
      "source": [
        "****\n",
        "**How well do your predictions match the sentiment labelled in the 2020 US elections data?**\n",
        "\n",
        "In this part, we test the best model that selected from the last part at the 2020 US election data. The result accuracy is 71.28%, which has the worse performance compared with the generic data. \n",
        "\n",
        "Although the prediction of amount of positive and negative sentiments are disparity with the true value. The prediction for Republican party has the same trend with the true sentiment, the negative sentiments are more than the positive sentiments. For Democratic party, the prediction shows that more negative sentiment than the positive, but the true situtation has the opposite trend with it. The amount of predictive negative are always higher than the actual amount, and the predictive positive are always lower then actual.\n",
        "\n",
        "****"
      ]
    },
    {
      "cell_type": "markdown",
      "metadata": {
        "id": "WL8Il2lfgTxQ"
      },
      "source": [
        "#### 4.2.1 Visualize sentiment prediction results and true sentiment"
      ]
    },
    {
      "cell_type": "code",
      "metadata": {
        "id": "sGRE0c0FgjX8"
      },
      "source": [
        "US_Elections_df['predict'] = prediction_us"
      ],
      "execution_count": 160,
      "outputs": []
    },
    {
      "cell_type": "code",
      "metadata": {
        "id": "k9xUxmqph07E"
      },
      "source": [
        "# Original positive for Democratic \n",
        "pos_org_dem = US_Elections_df.loc[US_Elections_df['sentiment'] == 1][US_Elections_df['party'] == 'Democratic'].shape[0]\n",
        "# Original negative for Democratic \n",
        "neg_org_dem = US_Elections_df.loc[US_Elections_df['sentiment'] == 0][US_Elections_df['party'] == 'Democratic'].shape[0]\n",
        "# Predict positive for Democratic \n",
        "pos_pred_dem = US_Elections_df.loc[US_Elections_df['predict'] == 1][US_Elections_df['party'] == 'Democratic'].shape[0]\n",
        "# Predict negative for Democratic \n",
        "neg_pred_dem = US_Elections_df.loc[US_Elections_df['predict'] == 0][US_Elections_df['party'] == 'Democratic'].shape[0]\n",
        "\n",
        "# Original postive for Republican\n",
        "pos_org_rep = US_Elections_df.loc[US_Elections_df['sentiment'] == 1][US_Elections_df['party'] == 'Republican'].shape[0]\n",
        "# Original negative for Republican\n",
        "neg_org_rep = US_Elections_df.loc[US_Elections_df['sentiment'] == 0][US_Elections_df['party'] == 'Republican'].shape[0]\n",
        "# Predict positive for Republican \n",
        "pos_pred_rep = US_Elections_df.loc[US_Elections_df['predict'] == 1][US_Elections_df['party'] == 'Republican'].shape[0]\n",
        "# Predict negative for Republican \n",
        "neg_pred_rep = US_Elections_df.loc[US_Elections_df['predict'] == 0][US_Elections_df['party'] == 'Republican'].shape[0]"
      ],
      "execution_count": 161,
      "outputs": []
    },
    {
      "cell_type": "code",
      "metadata": {
        "colab": {
          "base_uri": "https://localhost:8080/",
          "height": 460
        },
        "id": "Amrn9rhTducg",
        "outputId": "26f7d546-455b-4c00-8e2d-fcf4e608eb45"
      },
      "source": [
        "plt.figure(figsize=(18,8))\n",
        "name = ['Democratic Party Positive', 'Democratic Party Negative', 'Republican Party Positive', 'Republican Party Negative']  \n",
        "\n",
        "value1 = [pos_org_dem, neg_org_dem, pos_org_rep, neg_org_rep]\n",
        "value2 = [pos_pred_dem, neg_pred_dem, pos_pred_rep, neg_pred_rep]\n",
        "\n",
        "X = np.arange(4) \n",
        "bar1 = plt.bar(x = [i - 0.2 for i in X], height=value1, width=0.4,\n",
        "               alpha=0.8, color='r',label ='True sentiment')                  \n",
        "\n",
        "bar2 = plt.bar([i + 0.2 for i in X], height=value2, width = 0.4,\n",
        "               alpha=0.8,color ='g', label ='Prediction result')  \n",
        " \n",
        "plt.xticks(X, name)     \n",
        "plt.ylim(0,1000)     \n",
        "plt.title('Bar chart for sentiment prediction results and the true sentiment for Democratic and Republican party')    \n",
        "plt.xlabel('Party Name')    \n",
        "plt.ylabel('Values')      \n",
        "plt.legend()\n",
        "\n",
        "def label(rects):\n",
        "    for rect in rects:\n",
        "        height = rect.get_height()\n",
        "        plt.text(rect.get_x() + rect.get_width()/2., 1.0*height,\n",
        "                '{}'.format(height),\n",
        "                ha='center', va='bottom')\n",
        "\n",
        "label(bar1)\n",
        "label(bar2)\n",
        "plt.show()"
      ],
      "execution_count": 162,
      "outputs": [
        {
          "output_type": "display_data",
          "data": {
            "image/png": "[encoded data removed]",
            "text/plain": [
              "<Figure size 1296x576 with 1 Axes>"
            ]
          },
          "metadata": {
            "tags": [],
            "needs_background": "light"
          }
        }
      ]
    },
    {
      "cell_type": "code",
      "metadata": {
        "colab": {
          "base_uri": "https://localhost:8080/",
          "height": 264
        },
        "id": "46azd12hV_8j",
        "outputId": "6eba98d9-57c8-42e3-e171-d515bf7290fc"
      },
      "source": [
        "labels = ['Democratic Party Positive', 'Democratic Party Negative', \n",
        "          'Republican Party Positive', 'Republican Party Negative']\n",
        "sizes = [pos_org_dem, neg_org_dem, pos_org_rep, neg_org_rep]\n",
        "fig1, ax1 = plt.subplots()\n",
        "ax1.pie(sizes, labels=labels, autopct='%1.1f%%',\n",
        "        shadow=True, startangle=90)\n",
        "ax1.axis('equal') \n",
        "plt.title('Percantage of true positive and negative sentiments in US Parties')\n",
        "plt.show()"
      ],
      "execution_count": 163,
      "outputs": [
        {
          "output_type": "display_data",
          "data": {
            "image/png": "[encoded data removed]",
            "text/plain": [
              "<Figure size 432x288 with 1 Axes>"
            ]
          },
          "metadata": {
            "tags": []
          }
        }
      ]
    },
    {
      "cell_type": "code",
      "metadata": {
        "colab": {
          "base_uri": "https://localhost:8080/",
          "height": 268
        },
        "id": "x-ZbvfO9XDW2",
        "outputId": "22e09cb8-1358-46ca-e043-c3b9377a14c7"
      },
      "source": [
        "labels = ['Democratic Party Predictive Positive', 'Democratic Party Predictive Negative', \n",
        "          'Republican Party Predictive Positive', 'Republican Party Predictive Negative']\n",
        "sizes = [pos_pred_dem, neg_pred_dem, pos_pred_rep, neg_pred_rep]\n",
        "fig1, ax1 = plt.subplots()\n",
        "ax1.pie(sizes, labels=labels, autopct='%1.1f%%',\n",
        "        shadow=True, startangle=90)\n",
        "ax1.axis('equal') \n",
        "plt.title('Percantage of predict positive and negative sentiments in US Parties')\n",
        "plt.show()"
      ],
      "execution_count": 164,
      "outputs": [
        {
          "output_type": "display_data",
          "data": {
            "image/png": "[encoded data removed]",
            "text/plain": [
              "<Figure size 432x288 with 1 Axes>"
            ]
          },
          "metadata": {
            "tags": []
          }
        }
      ]
    },
    {
      "cell_type": "markdown",
      "metadata": {
        "id": "CMMi2L2BD2ed"
      },
      "source": [
        "****\n",
        "**Discuss whether NLP analytics based on tweets is useful for political parties during election campaigns.**\n",
        "\n",
        "The NLP analytics determines the sentiments of public and understanding the public opinion for the candidates. It is helpful to predict which candiates can win the election. From the result, the amount of positive tweets for both Parties are similar, and the negative sentiments for Republican party are occuped a larger part. \n",
        "\n",
        "From the 2020 US election result, Joe Biden got 306 electoral votes and Donald Trump got 232 electoral votes. NLP analytics based on tweets is useful for political parties during election campaigns, it shows that Trump has more negative sentiment on tweet.\n",
        "\n",
        "****"
      ]
    },
    {
      "cell_type": "code",
      "metadata": {
        "colab": {
          "base_uri": "https://localhost:8080/"
        },
        "id": "EvEXee5Gmu9a",
        "outputId": "58814f91-d1bf-4b37-e0da-4818e491c023"
      },
      "source": [
        "neg_US_df = US_Elections_df.loc[US_Elections_df['sentiment'] == 0]\n",
        "print('Numner of Null in negative_reason column is', neg_US_df['negative_reason'].isnull().sum())"
      ],
      "execution_count": 165,
      "outputs": [
        {
          "output_type": "stream",
          "text": [
            "Numner of Null in negative_reason column is 0\n"
          ],
          "name": "stdout"
        }
      ]
    },
    {
      "cell_type": "code",
      "metadata": {
        "colab": {
          "base_uri": "https://localhost:8080/"
        },
        "id": "9lQGWYEsuRn4",
        "outputId": "d5a62065-895e-40c6-c92b-2683f79c91f4"
      },
      "source": [
        "reason_list = neg_US_df['negative_reason'].unique()\n",
        "reason_list"
      ],
      "execution_count": 166,
      "outputs": [
        {
          "output_type": "execute_result",
          "data": {
            "text/plain": [
              "array(['covid19', 'others', 'discrimination', 'corruption', 'crime'],\n",
              "      dtype=object)"
            ]
          },
          "metadata": {
            "tags": []
          },
          "execution_count": 166
        }
      ]
    },
    {
      "cell_type": "code",
      "metadata": {
        "id": "HmGfWAoev8zU"
      },
      "source": [
        "reason_encode = {\n",
        "    'covid19': 0,\n",
        "    'others': 1, \n",
        "    'discrimination': 2, \n",
        "    'corruption': 3, \n",
        "    'crime':4\n",
        "}"
      ],
      "execution_count": 167,
      "outputs": []
    },
    {
      "cell_type": "code",
      "metadata": {
        "colab": {
          "base_uri": "https://localhost:8080/",
          "height": 419
        },
        "id": "vPpQggOGxJBx",
        "outputId": "0317f259-a575-4f95-de92-503fff36b5ab"
      },
      "source": [
        "neg_US_df['negative_reason'] = neg_US_df['negative_reason'].map(reason_encode)\n",
        "neg_US_df"
      ],
      "execution_count": 168,
      "outputs": [
        {
          "output_type": "execute_result",
          "data": {
            "text/html": [
              "<div>\n",
              "<style scoped>\n",
              "    .dataframe tbody tr th:only-of-type {\n",
              "        vertical-align: middle;\n",
              "    }\n",
              "\n",
              "    .dataframe tbody tr th {\n",
              "        vertical-align: top;\n",
              "    }\n",
              "\n",
              "    .dataframe thead th {\n",
              "        text-align: right;\n",
              "    }\n",
              "</style>\n",
              "<table border=\"1\" class=\"dataframe\">\n",
              "  <thead>\n",
              "    <tr style=\"text-align: right;\">\n",
              "      <th></th>\n",
              "      <th>text</th>\n",
              "      <th>sentiment</th>\n",
              "      <th>negative_reason</th>\n",
              "      <th>party</th>\n",
              "      <th>predict</th>\n",
              "    </tr>\n",
              "  </thead>\n",
              "  <tbody>\n",
              "    <tr>\n",
              "      <th>0</th>\n",
              "      <td>[robreiner, afraid, nov, dec, jan, bidenharris...</td>\n",
              "      <td>0</td>\n",
              "      <td>0</td>\n",
              "      <td>Democratic</td>\n",
              "      <td>0</td>\n",
              "    </tr>\n",
              "    <tr>\n",
              "      <th>1</th>\n",
              "      <td>[rt, suec, lord, sumption, launch, recovery, i...</td>\n",
              "      <td>0</td>\n",
              "      <td>1</td>\n",
              "      <td>Other</td>\n",
              "      <td>1</td>\n",
              "    </tr>\n",
              "    <tr>\n",
              "      <th>2</th>\n",
              "      <td>[rt, walidphares, uber, time, biden, advisor, ...</td>\n",
              "      <td>0</td>\n",
              "      <td>0</td>\n",
              "      <td>Democratic</td>\n",
              "      <td>0</td>\n",
              "    </tr>\n",
              "    <tr>\n",
              "      <th>5</th>\n",
              "      <td>[accelerate, rise, american, kill, trumpvirus]</td>\n",
              "      <td>0</td>\n",
              "      <td>2</td>\n",
              "      <td>Republican</td>\n",
              "      <td>0</td>\n",
              "    </tr>\n",
              "    <tr>\n",
              "      <th>6</th>\n",
              "      <td>[realdonaldtrump, dead, american, day, time, n...</td>\n",
              "      <td>0</td>\n",
              "      <td>2</td>\n",
              "      <td>Republican</td>\n",
              "      <td>0</td>\n",
              "    </tr>\n",
              "    <tr>\n",
              "      <th>...</th>\n",
              "      <td>...</td>\n",
              "      <td>...</td>\n",
              "      <td>...</td>\n",
              "      <td>...</td>\n",
              "      <td>...</td>\n",
              "    </tr>\n",
              "    <tr>\n",
              "      <th>2542</th>\n",
              "      <td>[love, air, watch, watch, news, hate, brainwas...</td>\n",
              "      <td>0</td>\n",
              "      <td>4</td>\n",
              "      <td>Other</td>\n",
              "      <td>0</td>\n",
              "    </tr>\n",
              "    <tr>\n",
              "      <th>2543</th>\n",
              "      <td>[rt, euinaus, challenge, humanity, year, covid...</td>\n",
              "      <td>0</td>\n",
              "      <td>2</td>\n",
              "      <td>Other</td>\n",
              "      <td>0</td>\n",
              "    </tr>\n",
              "    <tr>\n",
              "      <th>2544</th>\n",
              "      <td>[ty, flip, dump, day, year, day, resist, maga,...</td>\n",
              "      <td>0</td>\n",
              "      <td>0</td>\n",
              "      <td>Republican</td>\n",
              "      <td>1</td>\n",
              "    </tr>\n",
              "    <tr>\n",
              "      <th>2549</th>\n",
              "      <td>[donaldjtrumpjr, duhnnie, jr, lie, fox, number...</td>\n",
              "      <td>0</td>\n",
              "      <td>0</td>\n",
              "      <td>Republican</td>\n",
              "      <td>0</td>\n",
              "    </tr>\n",
              "    <tr>\n",
              "      <th>2550</th>\n",
              "      <td>[rt, pale, ranger, idea, joebiden, waste, time...</td>\n",
              "      <td>0</td>\n",
              "      <td>0</td>\n",
              "      <td>Democratic</td>\n",
              "      <td>0</td>\n",
              "    </tr>\n",
              "  </tbody>\n",
              "</table>\n",
              "<p>1264 rows × 5 columns</p>\n",
              "</div>"
            ],
            "text/plain": [
              "                                                   text  ...  predict\n",
              "0     [robreiner, afraid, nov, dec, jan, bidenharris...  ...        0\n",
              "1     [rt, suec, lord, sumption, launch, recovery, i...  ...        1\n",
              "2     [rt, walidphares, uber, time, biden, advisor, ...  ...        0\n",
              "5        [accelerate, rise, american, kill, trumpvirus]  ...        0\n",
              "6     [realdonaldtrump, dead, american, day, time, n...  ...        0\n",
              "...                                                 ...  ...      ...\n",
              "2542  [love, air, watch, watch, news, hate, brainwas...  ...        0\n",
              "2543  [rt, euinaus, challenge, humanity, year, covid...  ...        0\n",
              "2544  [ty, flip, dump, day, year, day, resist, maga,...  ...        1\n",
              "2549  [donaldjtrumpjr, duhnnie, jr, lie, fox, number...  ...        0\n",
              "2550  [rt, pale, ranger, idea, joebiden, waste, time...  ...        0\n",
              "\n",
              "[1264 rows x 5 columns]"
            ]
          },
          "metadata": {
            "tags": []
          },
          "execution_count": 168
        }
      ]
    },
    {
      "cell_type": "code",
      "metadata": {
        "colab": {
          "base_uri": "https://localhost:8080/"
        },
        "id": "w5Irb85eyWpc",
        "outputId": "6f510cd6-6d15-4ec8-e47a-349d7aa9c28a"
      },
      "source": [
        "neg_us_string = neg_US_df['text'].apply(join_str)\n",
        "BoW_neg_X = bag_of_words(neg_us_string)\n",
        "BoW_neg_X"
      ],
      "execution_count": 186,
      "outputs": [
        {
          "output_type": "execute_result",
          "data": {
            "text/plain": [
              "<1264x3721 sparse matrix of type '<class 'numpy.int64'>'\n",
              "\twith 10923 stored elements in Compressed Sparse Row format>"
            ]
          },
          "metadata": {
            "tags": []
          },
          "execution_count": 186
        }
      ]
    },
    {
      "cell_type": "code",
      "metadata": {
        "colab": {
          "base_uri": "https://localhost:8080/"
        },
        "id": "039rbsewzOyN",
        "outputId": "b643932c-05ba-4149-ec47-3c45aedbab3f"
      },
      "source": [
        "TfIdf_neg_X = tf_idf(neg_us_string)\n",
        "TfIdf_neg_X"
      ],
      "execution_count": 187,
      "outputs": [
        {
          "output_type": "execute_result",
          "data": {
            "text/plain": [
              "<1264x3721 sparse matrix of type '<class 'numpy.float64'>'\n",
              "\twith 10923 stored elements in Compressed Sparse Row format>"
            ]
          },
          "metadata": {
            "tags": []
          },
          "execution_count": 187
        }
      ]
    },
    {
      "cell_type": "code",
      "metadata": {
        "id": "OuwOk0_fxRDb"
      },
      "source": [
        "y_us = neg_US_df['negative_reason']\n",
        "# Bag of words\n",
        "BoW_neg_x_train, BoW_neg_x_test, BoW_neg_y_train, BoW_neg_y_test = train_test_split(BoW_neg_X, y_us, test_size = 0.30, random_state = 42)\n",
        "# TF-IDF\n",
        "TfIdf_neg_x_train, TfIdf_neg_x_test, TfIdf_neg_y_train, TfIdf_neg_y_test = train_test_split(TfIdf_neg_X, y_us, test_size = 0.30, random_state = 42)"
      ],
      "execution_count": 210,
      "outputs": []
    },
    {
      "cell_type": "markdown",
      "metadata": {
        "id": "gRnuWtDC0Xqd"
      },
      "source": [
        "#### 4.2.1 Logistic regression "
      ]
    },
    {
      "cell_type": "code",
      "metadata": {
        "id": "LxSpgchM0E7G"
      },
      "source": [
        "# Bag of words\n",
        "best_hyper_LRBoW, best_est_LRBoW = grid_serach({'C': np.arange(0, 3, 0.5), \n",
        "              'penalty': ['l1', 'l2'], 'solver': ['lbfgs', 'saga']},\n",
        "               LogisticRegression(), BoW_neg_x_train, BoW_neg_y_train)"
      ],
      "execution_count": 81,
      "outputs": []
    },
    {
      "cell_type": "code",
      "metadata": {
        "colab": {
          "base_uri": "https://localhost:8080/"
        },
        "id": "jMtAVSh244l5",
        "outputId": "c498c5f3-1959-4125-d794-00682d9433f7"
      },
      "source": [
        "best_est_LRBoW"
      ],
      "execution_count": 82,
      "outputs": [
        {
          "output_type": "execute_result",
          "data": {
            "text/plain": [
              "LogisticRegression(C=0.5, class_weight=None, dual=False, fit_intercept=True,\n",
              "                   intercept_scaling=1, l1_ratio=None, max_iter=100,\n",
              "                   multi_class='auto', n_jobs=None, penalty='l2',\n",
              "                   random_state=None, solver='lbfgs', tol=0.0001, verbose=0,\n",
              "                   warm_start=False)"
            ]
          },
          "metadata": {
            "tags": []
          },
          "execution_count": 82
        }
      ]
    },
    {
      "cell_type": "code",
      "metadata": {
        "colab": {
          "base_uri": "https://localhost:8080/"
        },
        "id": "alN1btgM2H18",
        "outputId": "47b36939-316d-44f0-a15f-32401ba7a16c"
      },
      "source": [
        "LRBoW_model = best_est_LRBoW\n",
        "kfold = KFold(n_splits=5)\n",
        "accuracy_LRBoW_model_train = cross_val_score(LRBoW_model, BoW_neg_x_train, BoW_neg_y_train, cv=kfold)\n",
        "print('Train accuracy for Logistic Regression bag of words', np.mean(accuracy_LRBoW_model_train))\n",
        "# LRBoW_model = LRBoW_model.fit(BoW_neg_x_train, BoW_neg_y_train)\n",
        "# prediction_LRBoW_model_test = LRBoW_model.predict(BoW_neg_x_test)\n",
        "# accuracy_LRBoW_model_test = accuracy_score(BoW_neg_y_test, prediction_LRBoW_model_test)\n",
        "# print('Test accuracy for Logistic Regression bag of words', accuracy_LRBoW_model_test)"
      ],
      "execution_count": 97,
      "outputs": [
        {
          "output_type": "stream",
          "text": [
            "Train accuracy for Logistic Regression bag of words 0.33825757575757576\n"
          ],
          "name": "stdout"
        }
      ]
    },
    {
      "cell_type": "code",
      "metadata": {
        "id": "nky4_LSK5WqD"
      },
      "source": [
        "# TF-IDF\n",
        "best_hyper_LRTfIdf, best_est_LRTfIdf = grid_serach({'C': np.arange(0, 3, 0.5), \n",
        "              'penalty': ['l1', 'l2'], 'solver': ['lbfgs', 'saga']}, \n",
        "              LogisticRegression(), TfIdf_neg_x_train, TfIdf_neg_y_train)"
      ],
      "execution_count": 86,
      "outputs": []
    },
    {
      "cell_type": "code",
      "metadata": {
        "colab": {
          "base_uri": "https://localhost:8080/"
        },
        "id": "P7_tktVi8gql",
        "outputId": "c88bf996-bd4f-40bf-cb70-cb21c242ae1c"
      },
      "source": [
        "best_est_LRTfIdf"
      ],
      "execution_count": 87,
      "outputs": [
        {
          "output_type": "execute_result",
          "data": {
            "text/plain": [
              "LogisticRegression(C=1.0, class_weight=None, dual=False, fit_intercept=True,\n",
              "                   intercept_scaling=1, l1_ratio=None, max_iter=100,\n",
              "                   multi_class='auto', n_jobs=None, penalty='l2',\n",
              "                   random_state=None, solver='lbfgs', tol=0.0001, verbose=0,\n",
              "                   warm_start=False)"
            ]
          },
          "metadata": {
            "tags": []
          },
          "execution_count": 87
        }
      ]
    },
    {
      "cell_type": "code",
      "metadata": {
        "colab": {
          "base_uri": "https://localhost:8080/"
        },
        "id": "GEKf1SJf8iVs",
        "outputId": "9beb0730-b043-41d4-80e6-01ab2a0bfaa0"
      },
      "source": [
        "LRTfIdf_model = best_est_LRTfIdf\n",
        "kfold = KFold(n_splits=5)\n",
        "accuracy_LRTfIdf_model_train = cross_val_score(LRTfIdf_model, TfIdf_neg_x_train, TfIdf_neg_y_train, cv=kfold)\n",
        "print('Train accuracy for Logistic Regression TF-IDF', np.mean(accuracy_LRTfIdf_model_train))\n",
        "\n",
        "# LRTfIdf_model = LRTfIdf_model.fit(TfIdf_neg_x_train, TfIdf_neg_y_train)\n",
        "# prediction_LRTfIdf_model_test = LRTfIdf_model.predict(TfIdf_neg_x_test)\n",
        "# accuracy_LRTfIdf_model_test = accuracy_score(TfIdf_neg_y_test, prediction_LRTfIdf_model_test)\n",
        "# print('Accuracy for Logistic Regression TF-IDF', accuracy_LRTfIdf_model_test)"
      ],
      "execution_count": 95,
      "outputs": [
        {
          "output_type": "stream",
          "text": [
            "Train accuracy for Logistic Regression TF-IDF 0.352914740626605\n"
          ],
          "name": "stdout"
        }
      ]
    },
    {
      "cell_type": "markdown",
      "metadata": {
        "id": "kCQfpOkD8zOR"
      },
      "source": [
        "#### 4.2.2 SVM"
      ]
    },
    {
      "cell_type": "code",
      "metadata": {
        "id": "TmZeEZEv8x-U"
      },
      "source": [
        "# Bag of words\n",
        "best_hyper_SVMBoW, best_est_SVMBoW = grid_serach({'penalty': ['l1','l2'], 'loss': ['hinge','squared_hinge'],\n",
        "                                               'C':np.arange(0, 3, 0.5)}, \n",
        "                                                LinearSVC(), BoW_neg_x_train, BoW_neg_y_train)"
      ],
      "execution_count": 91,
      "outputs": []
    },
    {
      "cell_type": "code",
      "metadata": {
        "colab": {
          "base_uri": "https://localhost:8080/"
        },
        "id": "3kbNFQLV9wBV",
        "outputId": "e904fbce-d1bc-4c6b-8903-6c061cf5974a"
      },
      "source": [
        "best_est_SVMBoW"
      ],
      "execution_count": 92,
      "outputs": [
        {
          "output_type": "execute_result",
          "data": {
            "text/plain": [
              "LinearSVC(C=0.5, class_weight=None, dual=True, fit_intercept=True,\n",
              "          intercept_scaling=1, loss='squared_hinge', max_iter=1000,\n",
              "          multi_class='ovr', penalty='l2', random_state=None, tol=0.0001,\n",
              "          verbose=0)"
            ]
          },
          "metadata": {
            "tags": []
          },
          "execution_count": 92
        }
      ]
    },
    {
      "cell_type": "code",
      "metadata": {
        "colab": {
          "base_uri": "https://localhost:8080/"
        },
        "id": "mU_G6p299zqU",
        "outputId": "2ba63a35-e62e-4d1e-9c57-2eec0de1b660"
      },
      "source": [
        "SVMBoW_model = best_est_SVMBoW\n",
        "kfold = KFold(n_splits=5)\n",
        "accuracy_SVMBoW_model_train = cross_val_score(SVMBoW_model, BoW_neg_x_train, BoW_neg_y_train, cv=kfold)\n",
        "SVMBoW_model = SVMBoW_model.fit(BoW_neg_x_train, BoW_neg_y_train)\n",
        "print('Train accuracy for SVM bag of words', np.mean(accuracy_SVMBoW_model_train))\n",
        "\n",
        "# SVMBoW_model = SVMBoW_model.fit(BoW_neg_x_train, BoW_neg_y_train)                                           \n",
        "# prediction_SVMBoW_model_test = SVMBoW_model.predict(BoW_neg_x_test)\n",
        "# accuracy_SVMBoW_model_test = accuracy_score(BoW_neg_y_test, prediction_SVMBoW_model_test)\n",
        "# print('Accuracy for SVM bag of words', accuracy_SVMBoW_model_test)"
      ],
      "execution_count": 94,
      "outputs": [
        {
          "output_type": "stream",
          "text": [
            "Train accuracy for SVM bag of words 0.29752182845403186\n"
          ],
          "name": "stdout"
        }
      ]
    },
    {
      "cell_type": "code",
      "metadata": {
        "id": "DhdtWL3y-LPG"
      },
      "source": [
        "# TF-IDF\n",
        "best_hyper_SVMTfIdf, best_est_SVMTfIdf = grid_serach({'penalty': ['l1','l2'], 'loss': ['hinge','squared_hinge'],\n",
        "                                               'C':np.arange(0, 3, 0.5)}, \n",
        "                                                LinearSVC(), TfIdf_neg_x_train, TfIdf_neg_y_train)"
      ],
      "execution_count": 98,
      "outputs": []
    },
    {
      "cell_type": "code",
      "metadata": {
        "colab": {
          "base_uri": "https://localhost:8080/"
        },
        "id": "JtP2Zwip-av1",
        "outputId": "077a2239-63ad-4774-fc9c-467f97823861"
      },
      "source": [
        "best_est_SVMTfIdf"
      ],
      "execution_count": 99,
      "outputs": [
        {
          "output_type": "execute_result",
          "data": {
            "text/plain": [
              "LinearSVC(C=0.5, class_weight=None, dual=True, fit_intercept=True,\n",
              "          intercept_scaling=1, loss='squared_hinge', max_iter=1000,\n",
              "          multi_class='ovr', penalty='l2', random_state=None, tol=0.0001,\n",
              "          verbose=0)"
            ]
          },
          "metadata": {
            "tags": []
          },
          "execution_count": 99
        }
      ]
    },
    {
      "cell_type": "code",
      "metadata": {
        "colab": {
          "base_uri": "https://localhost:8080/"
        },
        "id": "QnOPXm1y-b_J",
        "outputId": "37de8d71-9f2e-412a-d27b-dc6410784293"
      },
      "source": [
        "SVMTfIdf_model = best_est_SVMTfIdf\n",
        "kfold = KFold(n_splits=5)\n",
        "accuracy_SVMTfIdf_model_train = cross_val_score(SVMTfIdf_model, TfIdf_neg_x_train, TfIdf_neg_y_train, cv=kfold)\n",
        "print('Train accuracy for SVM TF-IDF', np.mean(accuracy_SVMTfIdf_model_train))\n",
        "# prediction_SVMTfIdf_model_train = SVMTfIdf_model.predict(TfIdf_neg_x_train)\n",
        "# accuracy_SVMTfIdf_model_train = accuracy_score(TfIdf_neg_y_train, prediction_SVMTfIdf_model_train)\n",
        "\n",
        "# SVMTfIdf_model = SVMTfIdf_model.fit(TfIdf_neg_x_train, TfIdf_neg_y_train)\n",
        "# prediction_SVMTfIdf_model_test = SVMTfIdf_model.predict(TfIdf_neg_x_test)\n",
        "# accuracy_SVMTfIdf_model_test = accuracy_score(TfIdf_neg_y_test, prediction_SVMTfIdf_model_test)\n",
        "# print('Test accuracy for SVM TF-IDF', accuracy_SVMTfIdf_model_test)"
      ],
      "execution_count": 102,
      "outputs": [
        {
          "output_type": "stream",
          "text": [
            "Train accuracy for Logistic Regression TF-IDF 0.3393746789933231\n"
          ],
          "name": "stdout"
        }
      ]
    },
    {
      "cell_type": "markdown",
      "metadata": {
        "id": "P6lakN8p-yPd"
      },
      "source": [
        "#### 4.2.3 Naive Bayes"
      ]
    },
    {
      "cell_type": "code",
      "metadata": {
        "id": "cs9l49Ub-03f"
      },
      "source": [
        "# Bag of words\n",
        "best_hyper_NBBoW, best_est_NBBoW = grid_serach({'alpha':np.arange(0,2,0.1)}, \n",
        "                                                MultinomialNB(), BoW_neg_x_train, BoW_neg_y_train)"
      ],
      "execution_count": 189,
      "outputs": []
    },
    {
      "cell_type": "code",
      "metadata": {
        "colab": {
          "base_uri": "https://localhost:8080/"
        },
        "id": "QK5JbySb_gaq",
        "outputId": "236229c6-deac-45f4-ce85-3c050c520e60"
      },
      "source": [
        "best_est_NBBoW"
      ],
      "execution_count": 190,
      "outputs": [
        {
          "output_type": "execute_result",
          "data": {
            "text/plain": [
              "MultinomialNB(alpha=1.9000000000000001, class_prior=None, fit_prior=True)"
            ]
          },
          "metadata": {
            "tags": []
          },
          "execution_count": 190
        }
      ]
    },
    {
      "cell_type": "code",
      "metadata": {
        "colab": {
          "base_uri": "https://localhost:8080/"
        },
        "id": "xcLwv0_q_ivq",
        "outputId": "a6cdefbd-6c53-4526-ea18-4fa7e793393d"
      },
      "source": [
        "NBBoW_model = best_est_NBBoW\n",
        "kfold = KFold(n_splits=5)\n",
        "accuracy_NBBoW_model_train = cross_val_score(NBBoW_model, BoW_neg_x_train, BoW_neg_y_train, cv=kfold)\n",
        "print('Train accuracy for Naive Byaes bag of words', np.mean(accuracy_NBBoW_model_train))\n",
        "\n",
        "# NBBoW_model = NBBoW_model.fit(BoW_neg_x_train, BoW_neg_y_train)\n",
        "# prediction_NBBoW_model_test = NBBoW_model.predict(BoW_neg_x_test)\n",
        "# accuracy_NBBoW_model_test = accuracy_score(BoW_neg_y_test, prediction_NBBoW_model_test)\n",
        "# print('Test accuracy for Naive Byaes bag of words', accuracy_NBBoW_model_test)"
      ],
      "execution_count": 109,
      "outputs": [
        {
          "output_type": "stream",
          "text": [
            "Train accuracy for Naive Byaes bag of words 0.349537750385208\n"
          ],
          "name": "stdout"
        }
      ]
    },
    {
      "cell_type": "code",
      "metadata": {
        "id": "VLRCMSFf_zXn"
      },
      "source": [
        "# TF-IDF\n",
        "best_hyper_NBTfIdf, best_est_NBTfIdf = grid_serach({'alpha':np.arange(0,2,0.1)}, \n",
        "                                                MultinomialNB(), TfIdf_neg_x_train, TfIdf_neg_y_train)"
      ],
      "execution_count": 191,
      "outputs": []
    },
    {
      "cell_type": "code",
      "metadata": {
        "colab": {
          "base_uri": "https://localhost:8080/"
        },
        "id": "f65YJ-Z6AAY-",
        "outputId": "791ed2f0-9d8f-4b9b-e838-4c77312e8591"
      },
      "source": [
        "best_est_NBTfIdf"
      ],
      "execution_count": 192,
      "outputs": [
        {
          "output_type": "execute_result",
          "data": {
            "text/plain": [
              "MultinomialNB(alpha=0.4, class_prior=None, fit_prior=True)"
            ]
          },
          "metadata": {
            "tags": []
          },
          "execution_count": 192
        }
      ]
    },
    {
      "cell_type": "code",
      "metadata": {
        "colab": {
          "base_uri": "https://localhost:8080/"
        },
        "id": "4F_DWSnVACpa",
        "outputId": "11a17bad-e098-4d1f-990a-c9d1583f3171"
      },
      "source": [
        "NBTfIdf_model = best_est_NBTfIdf\n",
        "kfold = KFold(n_splits=5)\n",
        "accuracy_NBTfIdf_model_train = cross_val_score(NBTfIdf_model, TfIdf_neg_x_train, TfIdf_neg_y_train, cv=kfold)\n",
        "print('Train accuracy for Naive Byaes TF-IDF', np.mean(accuracy_NBTfIdf_model_train))\n",
        "\n",
        "# NBTfIdf_model = NBTfIdf_model.fit(TfIdf_neg_x_train, TfIdf_neg_y_train)\n",
        "# prediction_NBTfIdf_model_test = NBTfIdf_model.predict(TfIdf_neg_x_test)\n",
        "# accuracy_NBTfIdf_model_test = accuracy_score(TfIdf_neg_y_test, prediction_NBTfIdf_model_test)\n",
        "# print('Test accuracy for Naive Byaes TF-IDF', accuracy_NBTfIdf_model_test)"
      ],
      "execution_count": 108,
      "outputs": [
        {
          "output_type": "stream",
          "text": [
            "Train accuracy for Naive Byaes TF-IDF 0.3630970724191063\n"
          ],
          "name": "stdout"
        }
      ]
    },
    {
      "cell_type": "markdown",
      "metadata": {
        "id": "7v_Jmy0RL0Oe"
      },
      "source": [
        "**Result Table**\n",
        "\n",
        "| Feature | Accuracy | Logistic Regression | SVM | Naive Bayes |\n",
        "|:---:|:---:|:---:|:---:|:---:|\n",
        "| Bag of Words | Training Accuracy | 0.338 | 0.298 | 0.350 |\n",
        "| TF-IDF | Training Accuracy | 0.353 | 0.339 | 0.3631 |\n"
      ]
    },
    {
      "cell_type": "markdown",
      "metadata": {
        "id": "EOytOvsRVwPn"
      },
      "source": [
        "**The best training score is using Naive Bayes TF-IDF**"
      ]
    },
    {
      "cell_type": "code",
      "metadata": {
        "colab": {
          "base_uri": "https://localhost:8080/"
        },
        "id": "CQL4T__SVvib",
        "outputId": "a679c922-fbdd-42d8-eb3d-21370136db0c"
      },
      "source": [
        "# Test on the highest score model\n",
        "NBTfIdf_model = NBTfIdf_model.fit(TfIdf_neg_x_train, TfIdf_neg_y_train)\n",
        "prediction_NBTfIdf_model_test = NBTfIdf_model.predict(TfIdf_neg_x_test)\n",
        "accuracy_NBTfIdf_model_test = accuracy_score(TfIdf_neg_y_test, prediction_NBTfIdf_model_test)\n",
        "print('Test accuracy for Naive Byaes TF-IDF', accuracy_NBTfIdf_model_test)"
      ],
      "execution_count": 193,
      "outputs": [
        {
          "output_type": "stream",
          "text": [
            "Test accuracy for Naive Byaes TF-IDF 0.35789473684210527\n"
          ],
          "name": "stdout"
        }
      ]
    },
    {
      "cell_type": "code",
      "metadata": {
        "colab": {
          "base_uri": "https://localhost:8080/",
          "height": 404
        },
        "id": "1UqgdIaB02WN",
        "outputId": "f42fefe9-32d8-498d-fc5e-a4358ba776bb"
      },
      "source": [
        "# Number of negative reason on whole data set include training and test\n",
        "reason0 = neg_US_df.loc[neg_US_df['negative_reason'] == 0].shape[0]\n",
        "reason1 = neg_US_df.loc[neg_US_df['negative_reason'] == 1].shape[0]\n",
        "reason2 = neg_US_df.loc[neg_US_df['negative_reason'] == 2].shape[0]\n",
        "reason3 = neg_US_df.loc[neg_US_df['negative_reason'] == 3].shape[0]\n",
        "reason4 = neg_US_df.loc[neg_US_df['negative_reason'] == 4].shape[0]\n",
        "fig = plt.figure(figsize=(8,6))\n",
        "langs = ['covid19', 'others', 'discrimination', 'corruption', 'crime']  \n",
        "reasons = [reason0, reason1, reason2, reason3, reason4]\n",
        "plt.bar(langs,reasons)\n",
        "plt.title('Summarizing the amount of negative reason')    \n",
        "plt.xlabel('Negative reason')    \n",
        "plt.ylabel('Values')\n",
        "plt.show()"
      ],
      "execution_count": 223,
      "outputs": [
        {
          "output_type": "display_data",
          "data": {
            "image/png": "[encoded data removed]",
            "text/plain": [
              "<Figure size 576x432 with 1 Axes>"
            ]
          },
          "metadata": {
            "tags": [],
            "needs_background": "light"
          }
        }
      ]
    },
    {
      "cell_type": "code",
      "metadata": {
        "colab": {
          "base_uri": "https://localhost:8080/",
          "height": 404
        },
        "id": "l438xJWNw4k6",
        "outputId": "295dfd7c-1c0f-4158-982a-d4dd9c3bce6f"
      },
      "source": [
        "# Number of negative reason on test set\n",
        "TfIdf_neg_test_df = pd.DataFrame(TfIdf_neg_x_test, columns=['TF-IDF Test X'])\n",
        "TfIdf_neg_test_df['TF-IDF Test Y'] = np.array(TfIdf_neg_y_test)\n",
        "\n",
        "reason0_test = TfIdf_neg_test_df.loc[TfIdf_neg_test_df['TF-IDF Test Y'] == 0].shape[0]\n",
        "reason1_test = TfIdf_neg_test_df.loc[TfIdf_neg_test_df['TF-IDF Test Y'] == 1].shape[0]\n",
        "reason2_test = TfIdf_neg_test_df.loc[TfIdf_neg_test_df['TF-IDF Test Y'] == 2].shape[0]\n",
        "reason3_test = TfIdf_neg_test_df.loc[TfIdf_neg_test_df['TF-IDF Test Y'] == 3].shape[0]\n",
        "reason4_test = TfIdf_neg_test_df.loc[TfIdf_neg_test_df['TF-IDF Test Y'] == 4].shape[0]\n",
        "\n",
        "fig = plt.figure(figsize=(8,6))\n",
        "langs = ['covid19', 'others', 'discrimination', 'corruption', 'crime']  \n",
        "reasons = [reason0_test, reason1_test, reason2_test, reason3_test, reason4_test]\n",
        "plt.bar(langs,reasons)\n",
        "plt.title('Summarizing the test amount of negative reason')    \n",
        "plt.xlabel('Negative reason')    \n",
        "plt.ylabel('Values')\n",
        "plt.show()"
      ],
      "execution_count": 222,
      "outputs": [
        {
          "output_type": "display_data",
          "data": {
            "image/png": "[encoded data removed]",
            "text/plain": [
              "<Figure size 576x432 with 1 Axes>"
            ]
          },
          "metadata": {
            "tags": [],
            "needs_background": "light"
          }
        }
      ]
    },
    {
      "cell_type": "code",
      "metadata": {
        "id": "e5_Z9dp6wIYt"
      },
      "source": [
        "# Number of negative reason on predictive\n",
        "reason0_pred = (prediction_NBTfIdf_model_test == 0).sum()\n",
        "reason1_pred = (prediction_NBTfIdf_model_test == 1).sum()\n",
        "reason2_pred = (prediction_NBTfIdf_model_test == 2).sum()\n",
        "reason3_pred = (prediction_NBTfIdf_model_test == 3).sum()\n",
        "reason4_pred = (prediction_NBTfIdf_model_test == 4).sum()"
      ],
      "execution_count": 197,
      "outputs": []
    },
    {
      "cell_type": "code",
      "metadata": {
        "colab": {
          "base_uri": "https://localhost:8080/",
          "height": 404
        },
        "id": "BL6bypMCwb-5",
        "outputId": "463441f5-3929-4229-d927-19ab78a6c834"
      },
      "source": [
        "fig = plt.figure(figsize=(8,6))\n",
        "langs = ['covid19', 'others', 'discrimination', 'corruption', 'crime']  \n",
        "reasons = [reason0_pred, reason1_pred, reason2_pred, reason3_pred, reason4_pred]\n",
        "plt.bar(langs,reasons)\n",
        "plt.title('Summarizing the predictive amount of negative reason')    \n",
        "plt.xlabel('Negative reason')    \n",
        "plt.ylabel('Values')\n",
        "plt.show()"
      ],
      "execution_count": 198,
      "outputs": [
        {
          "output_type": "display_data",
          "data": {
            "image/png": "[encoded data removed]",
            "text/plain": [
              "<Figure size 576x432 with 1 Axes>"
            ]
          },
          "metadata": {
            "tags": [],
            "needs_background": "light"
          }
        }
      ]
    },
    {
      "cell_type": "markdown",
      "metadata": {
        "id": "DWgAleTAOtaK"
      },
      "source": [
        "## 5 Result"
      ]
    },
    {
      "cell_type": "markdown",
      "metadata": {
        "id": "4KSPVrhzO3gW"
      },
      "source": [
        "* Answer the research question stated above based on the outputs of your first model. \n",
        "\n",
        "* Describe the results of the analysis and discuss your interpretation of the results. \n",
        "\n",
        "* Explain how each party is viewed in the public eye based on the sentiment value. \n",
        "\n",
        "* For the second model, based on the model that worked best, provide a few reasons why your model may fail to predict the correct negative reasons. Back up your reasoning with examples from the test sets. \n",
        "\n",
        "* For both models, suggest one way you can improve the accuracy of your models."
      ]
    },
    {
      "cell_type": "markdown",
      "metadata": {
        "id": "9roc4f4yQfRb"
      },
      "source": [
        "#### 5.1 First Model Analysis"
      ]
    },
    {
      "cell_type": "markdown",
      "metadata": {
        "id": "1ch239P8Q35y"
      },
      "source": [
        "* The original data indicates that among 2552 tweets, 324 positive and 203 negative for Democratic Party, 330 positive and 415 negative for Republican Party. In all tweets, 49.9% tweets are associated with 2020 US election. Among the US data, 58.5% are talking about Republican Party and 41.5% are corresponding to Democratic Party. For Republican Party, 32.6% tweets are negative and 25.9% are positive. For Democratic Party, 16.0%% are negative and 25.5% are positive.\n",
        "\n",
        "* Through training on the generic tweets, I choose a best performance model, logistic regression, among the 7 models to test at the 2020 US election data and predict for the sentiment. The predict result shows 44.7% are Republican Party negative, 13.9% are Republican Party positive; 24.4% are Democratic Party negative and 17.1% are Democratic Party positive. \n",
        "\n",
        "* The test accuracy is 0.7128 and the training accuracy at generic tweet is 0.9588, the test accuracy is much lower than training. It may because the generic tweet has 317251 word features due to the large amount of tweet in the dataframe, but 2020 US election data does not have that much word features. During the bag of words and TF-IDF, the US election data fit to the vectorizer of generic tweet word features and transfrom to itself, if the words in generic tweet not include in US election, a zero fill into the matrix. If the words in US election are not in the generic tweet, they will be ignored. So that lots of number in 2020 US election sparse matrix are zero, they carry less information. And some of the words in 2020 US election are dropped, so that the test accuracy is lower than training accuracy. \n",
        "\n",
        "* Although the prediction of amount of positive and negative sentiments are disparity with the true value. The prediction for Republican party has the same trend with the true sentiment, negative are more than positive. For Democratic party, the prediction value shows opposite trend that more negative sentiment than the positive, but the true situtation are positive more than negative. The amount of negative predictive result is always more than the actual amount, and the positive predictive result is always less than the actual result. Especially for Republican Party, it received a large amount of negative sentiment.\n",
        "\n",
        "* From the 2020 US election result, Joe Biden got 306 electoral votes and Donald Trump got 232 electoral votes. From the NLP analytics based on tweet, it shows that more public get Trump negative sentiment on tweet and more positive to Biden, so that NLP analytics is useful for political parties during election campaigns.\n"
      ]
    },
    {
      "cell_type": "markdown",
      "metadata": {
        "id": "_orY79W-Qyhc"
      },
      "source": [
        "#### 5.2 Second Model Analysis"
      ]
    },
    {
      "cell_type": "markdown",
      "metadata": {
        "id": "x7iRgkiQkarX"
      },
      "source": [
        "* The training accuracy for Naive Bayes is the highest among the three models, but both of them are around 30%, which is due to cross validation. Each fold contain less training and validation data size, so that the training accuracy is quite low.\n",
        "\n",
        "* Bayes’ Theorem provides a way that we can calculate the probability of a piece of data belonging to a given class, given our prior knowledge. MultinomialNB implements the naive Bayes algorithm for multinomially distributed data. It is one of the two classic naive Bayes variants used in text classification. \n",
        "\n",
        "* The test accuracy on the US negative data is 0.358, which is quite low. The reason is beacuse the imbalance data, above bar charts count the number of the negative reasons in the whole dataset, test set and prediction. In the whole dataset, nagetive reason 'Covid19' contains 30% among the five reasons. The negative reason in test set also has around 30% of 'Covid19'. So that during the test, more of the 'Covid19' will be predicted, which is proofed by the last plot. Over 80% of the negative reason are predicted as 'Covid19', it leads test accuracy becomes very low."
      ]
    },
    {
      "cell_type": "markdown",
      "metadata": {
        "id": "dpKfa6Q23k53"
      },
      "source": [
        "#### 5.3 Improve accuracy"
      ]
    },
    {
      "cell_type": "markdown",
      "metadata": {
        "id": "KlOdZ_8d3q4s"
      },
      "source": [
        "* Model 1: The word features in the training set may not contain the keywords in 2020 US elections, the corpus in training set should consist of data from news sources e.g. recent tweets. This is because the vocabulary of a corpus varies with domains. Also, we can eliminating features with extremely low frequency,because the keywords in low occurance frequency in the corpus usually does not play a role in text classification. Reducing the feature can help to improve accuracy.\n",
        "\n",
        "* Model 2: In order to fix the data imbalance, we can combine some closer reasons together to reduce the percentage of the main resaon among the reason pool. Also we can do classes reweight, it takes into account the asymmetry of cost errors directly during the classifier training, therefore the output probabilities for each class will already embed the cost error information. "
      ]
    }
  ]
}